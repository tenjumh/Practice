{
 "cells": [
  {
   "cell_type": "code",
   "execution_count": 16,
   "metadata": {},
   "outputs": [],
   "source": [
    "# 기폰 패키지\n",
    "import pandas as pd\n",
    "import numpy as np\n",
    "import matplotlib.pyplot as plt"
   ]
  },
  {
   "cell_type": "code",
   "execution_count": 17,
   "metadata": {},
   "outputs": [],
   "source": [
    "def preprocessing(file1, file2):\n",
    "    df_total_hit = pd.read_excel(file1)\n",
    "    df_total_field = pd.read_excel(file2)\n",
    "    player_hit_data = df_total_hit\n",
    "    player_field_data = df_total_field\n",
    "    \n",
    "    player_hit_data = player_hit_data.rename(columns={'RK':'RK', 'Player':'Player', 'Team':'Team', \n",
    "                                            '':'del', '▲':'del2', 'Pos':'Pos', 'G▼':'G', 'AB▼':'AB', 'R▼':'R',\n",
    "                                            'H▼':'H', '2B▼':'2B', '3B▼':'3B', 'HR▼':'HR',\n",
    "                                            'RBI▼':'RBI', 'BB▼':'BB', 'SO▼':'SO', 'SB▼':'SB',\n",
    "                                            'CS▼':'CS', 'AVG▼':'AVG', 'OBP▼':'OBP',\n",
    "                                            'SLG▼':'SLG', 'OPS▼':'OPS', 'IBB▼':'IBB',\n",
    "                                            'HBP▼':'HBP', 'SAC▼':'SAC', 'SF▼':'SF', \n",
    "                                            'TB▼':'TB', 'XBH▼':'XBH', 'GDP▼':'GDP',\n",
    "                                            'GO▼':'GO', 'AO▼':'AO', 'GO_AO▼':'GO_AO',\n",
    "                                            'NP▼':'NP', 'PA▼':'PA'})\n",
    "    player_field_data = player_field_data.rename(columns={'RK':'RK', 'Player':'Player', 'Team':'Team', '':'del',\n",
    "                                            '▲':'del2', 'Pos':'Pos', 'G▼':'G', 'GS▼':'GS',\n",
    "                                            'INN▼':'INN', 'TC▼':'TC', 'PO▼':'PO', 'A▼':'A',\n",
    "                                            'E▼':'E', 'DP▼':'DP', 'SB▼':'SB', 'CS▼':'CS',\n",
    "                                            'SBPCT▲':'SBPCT', 'PB▼':'PB', 'C_WP▼':'C_WP',\n",
    "                                            'FPCT▼':'FPCT', 'RF▼':'RF'})\n",
    "\n",
    "    # 불필요한 컬럼 삭제\n",
    "    player_hit_data = player_hit_data.drop(['Unnamed: 0', 'RK', 'del', 'del2', 'GO_AO', 'G'], axis=1)\n",
    "    player_field_data = player_field_data.drop(['Unnamed: 0', 'RK', 'del', 'del2', 'G', 'GS', 'SB', 'CS', 'SBPCT','PB','C_WP'], axis=1)\n",
    "\n",
    "    # column Player & Team $ Position 기준 병합\n",
    "    df_total = pd.merge(player_hit_data, player_field_data, on=['Player', 'Team', 'Pos']) # how='outer')\n",
    "    df_total.columns\n",
    "    #df_total.to_excel(\"test.xlsx\")\n",
    "\n",
    "    # 컬럼 조건문으로 행 추출하기 Position 컬럼에서 \"1B\", \"2B\", \"3B\", \"SS\"\n",
    "    # 하나의 조건문이라면 \"해당 컬럼 == 하나조건\"으로 하면 되지만, \"해당컬럼.isin([여러조건])\"\n",
    "    # df_total_hit_infld = df_total_hit[df_total_hit['Pos'] == \"2B\"]\n",
    "    df_total_infld = df_total[df_total['Pos'].isin([\"1B\", \"2B\", \"3B\", \"SS\"])]\n",
    "    df_total_infld\n",
    "\n",
    "    # 타석수와 수비이닝의 최소값 제한\n",
    "    df_total_infld = df_total_infld[df_total_infld['AB'] >= 50]\n",
    "    df_total_infld = df_total_infld[df_total_infld['INN'] >= 50]\n",
    "    df_total_infld.isnull().count()\n",
    "    # Playe와 Team 컬럼 삭제\n",
    "\n",
    "    df_total_infld.drop(['Player', 'Team'], axis=1, inplace=True)\n",
    "    df_total_infld.drop(['AB', 'INN'], axis=1, inplace=True)\n",
    "    # df_total_infld.drop(['AVG', 'OBP', 'SLG', 'FPCT'], axis=1, inplace=True)\n",
    "\n",
    "    df_total_infld['AVG'] = df_total_infld['AVG'].astype(float)\n",
    "    df_total_infld['OBP'] = df_total_infld['OBP'].astype(float)\n",
    "    df_total_infld['SLG'] = df_total_infld['SLG'].astype(float)\n",
    "    df_total_infld['FPCT'] = df_total_infld['FPCT'].astype(float)\n",
    "    \n",
    "    return df_total_infld"
   ]
  },
  {
   "cell_type": "code",
   "execution_count": 18,
   "metadata": {},
   "outputs": [],
   "source": []
  },
  {
   "cell_type": "code",
   "execution_count": null,
   "metadata": {},
   "outputs": [],
   "source": []
  }
 ],
 "metadata": {
  "kernelspec": {
   "display_name": "Python 3",
   "language": "python",
   "name": "python3"
  },
  "language_info": {
   "codemirror_mode": {
    "name": "ipython",
    "version": 3
   },
   "file_extension": ".py",
   "mimetype": "text/x-python",
   "name": "python",
   "nbconvert_exporter": "python",
   "pygments_lexer": "ipython3",
   "version": "3.6.10"
  }
 },
 "nbformat": 4,
 "nbformat_minor": 2
}
