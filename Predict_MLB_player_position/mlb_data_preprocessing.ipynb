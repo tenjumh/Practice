{
 "cells": [
  {
   "cell_type": "code",
   "execution_count": null,
   "metadata": {},
   "outputs": [],
   "source": [
    "# 기폰 패키지\n",
    "import pandas as pd\n",
    "import numpy as np\n",
    "from selenium import webdriver\n",
    "from bs4 import BeautifulSoup\n",
    "from html_table_parser import parser_functions as parser\n",
    "import time\n",
    "import matplotlib.pyplot as plt\n",
    "\n",
    "# 전처리 패키지\n",
    "from sklearn.preprocessing import OneHotEncoder\n",
    "from sklearn.preprocessing import LabelEncoder\n",
    "from sklearn.model_selection import train_test_split\n",
    "from sklearn.model_selection import cross_val_score\n",
    "from sklearn.model_selection import GridSearchCV\n",
    "from keras.utils import to_categorical\n",
    "from sklearn.metrics import accuracy_score\n",
    "from sklearn.preprocessing import MinMaxScaler\n",
    "\n",
    "# 모델 패키지\n",
    "from sklearn.ensemble import AdaBoostClassifier\n",
    "from sklearn.tree import DecisionTreeClassifier\n",
    "from sklearn.ensemble import RandomForestClassifier\n",
    "from sklearn.ensemble import VotingClassifier\n",
    "from sklearn.neighbors import KNeighborsClassifier\n",
    "from sklearn.ensemble import GradientBoostingClassifier\n",
    "from sklearn.linear_model import LogisticRegression\n",
    "from sklearn.tree import export_graphviz\n",
    "from xgboost import XGBClassifier\n",
    "from lightgbm import LGBMClassifier\n",
    "import keras\n",
    "from keras import models\n",
    "from keras import layers"
   ]
  },
  {
   "cell_type": "code",
   "execution_count": null,
   "metadata": {},
   "outputs": [],
   "source": [
    "df_total_hit = pd.read_excel(\"./backup/df_total_hit.xlsx\")\n",
    "df_total_field = pd.read_excel(\"./backup/df_total_field.xlsx\")\n",
    "\n",
    "player_hit_data = df_total_hit\n",
    "player_field_data = df_total_field\n",
    "\n",
    "# 불필요한 컬럼 삭제\n",
    "\n",
    "player_hit_data = player_hit_data.drop(['Unnamed: 0', 'RK', 'del', 'del2', 'GO_AO', 'G'], axis=1)\n",
    "player_field_data = player_field_data.drop(['Unnamed: 0', 'RK', 'del', 'del2', 'G', 'GS', 'SB', 'CS', 'SBPCT','PB','C_WP'], axis=1)\n",
    "\n",
    "# column Player & Team $ Position 기준 병합\n",
    "\n",
    "df_total = pd.merge(player_hit_data, player_field_data, on=['Player', 'Team', 'Pos']) # how='outer')\n",
    "df_total.columns\n",
    "#df_total.to_excel(\"test.xlsx\")\n",
    "\n",
    "# 컬럼 조건문으로 행 추출하기 Position 컬럼에서 \"1B\", \"2B\", \"3B\", \"SS\"\n",
    "\n",
    "# 하나의 조건문이라면 \"해당 컬럼 == 하나조건\"으로 하면 되지만, \"해당컬럼.isin([여러조건])\"\n",
    "# df_total_hit_infld = df_total_hit[df_total_hit['Pos'] == \"2B\"]\n",
    "df_total_infld = df_total[df_total['Pos'].isin([\"1B\", \"2B\", \"3B\", \"SS\"])]\n",
    "df_total_infld\n",
    "print(df_total_infld.shape)\n",
    "\n",
    "# 타석수와 수비이닝의 최소값 제한\n",
    "\n",
    "df_total_infld = df_total_infld[df_total_infld['AB'] >= 50]\n",
    "print(df_total_infld.shape)\n",
    "df_total_infld = df_total_infld[df_total_infld['INN'] >= 50]\n",
    "print(df_total_infld.shape)"
   ]
  },
  {
   "cell_type": "code",
   "execution_count": null,
   "metadata": {},
   "outputs": [],
   "source": []
  },
  {
   "cell_type": "code",
   "execution_count": null,
   "metadata": {},
   "outputs": [],
   "source": []
  }
 ],
 "metadata": {
  "kernelspec": {
   "display_name": "Python 3",
   "language": "python",
   "name": "python3"
  },
  "language_info": {
   "codemirror_mode": {
    "name": "ipython",
    "version": 3
   },
   "file_extension": ".py",
   "mimetype": "text/x-python",
   "name": "python",
   "nbconvert_exporter": "python",
   "pygments_lexer": "ipython3",
   "version": "3.6.10"
  }
 },
 "nbformat": 4,
 "nbformat_minor": 2
}
