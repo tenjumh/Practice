{
 "cells": [
  {
   "cell_type": "code",
   "execution_count": 1,
   "metadata": {},
   "outputs": [
    {
     "name": "stderr",
     "output_type": "stream",
     "text": [
      "Using TensorFlow backend.\n",
      "C:\\Anaconda3\\envs\\nlp\\lib\\site-packages\\tensorflow\\python\\framework\\dtypes.py:526: FutureWarning: Passing (type, 1) or '1type' as a synonym of type is deprecated; in a future version of numpy, it will be understood as (type, (1,)) / '(1,)type'.\n",
      "  _np_qint8 = np.dtype([(\"qint8\", np.int8, 1)])\n",
      "C:\\Anaconda3\\envs\\nlp\\lib\\site-packages\\tensorflow\\python\\framework\\dtypes.py:527: FutureWarning: Passing (type, 1) or '1type' as a synonym of type is deprecated; in a future version of numpy, it will be understood as (type, (1,)) / '(1,)type'.\n",
      "  _np_quint8 = np.dtype([(\"quint8\", np.uint8, 1)])\n",
      "C:\\Anaconda3\\envs\\nlp\\lib\\site-packages\\tensorflow\\python\\framework\\dtypes.py:528: FutureWarning: Passing (type, 1) or '1type' as a synonym of type is deprecated; in a future version of numpy, it will be understood as (type, (1,)) / '(1,)type'.\n",
      "  _np_qint16 = np.dtype([(\"qint16\", np.int16, 1)])\n",
      "C:\\Anaconda3\\envs\\nlp\\lib\\site-packages\\tensorflow\\python\\framework\\dtypes.py:529: FutureWarning: Passing (type, 1) or '1type' as a synonym of type is deprecated; in a future version of numpy, it will be understood as (type, (1,)) / '(1,)type'.\n",
      "  _np_quint16 = np.dtype([(\"quint16\", np.uint16, 1)])\n",
      "C:\\Anaconda3\\envs\\nlp\\lib\\site-packages\\tensorflow\\python\\framework\\dtypes.py:530: FutureWarning: Passing (type, 1) or '1type' as a synonym of type is deprecated; in a future version of numpy, it will be understood as (type, (1,)) / '(1,)type'.\n",
      "  _np_qint32 = np.dtype([(\"qint32\", np.int32, 1)])\n",
      "C:\\Anaconda3\\envs\\nlp\\lib\\site-packages\\tensorflow\\python\\framework\\dtypes.py:535: FutureWarning: Passing (type, 1) or '1type' as a synonym of type is deprecated; in a future version of numpy, it will be understood as (type, (1,)) / '(1,)type'.\n",
      "  np_resource = np.dtype([(\"resource\", np.ubyte, 1)])\n"
     ]
    }
   ],
   "source": [
    "# 기폰 패키지\n",
    "import pandas as pd\n",
    "import numpy as np\n",
    "from selenium import webdriver\n",
    "from bs4 import BeautifulSoup\n",
    "from html_table_parser import parser_functions as parser\n",
    "import time\n",
    "import matplotlib.pyplot as plt\n",
    "\n",
    "# 전처리 패키지\n",
    "from sklearn.preprocessing import OneHotEncoder\n",
    "from sklearn.preprocessing import LabelEncoder\n",
    "from sklearn.model_selection import train_test_split\n",
    "from sklearn.model_selection import cross_val_score\n",
    "from sklearn.model_selection import GridSearchCV\n",
    "from keras.utils import to_categorical\n",
    "from sklearn.metrics import accuracy_score\n",
    "from sklearn.preprocessing import MinMaxScaler\n",
    "\n",
    "# 모델 패키지\n",
    "from sklearn.ensemble import AdaBoostClassifier\n",
    "from sklearn.tree import DecisionTreeClassifier\n",
    "from sklearn.ensemble import RandomForestClassifier\n",
    "from sklearn.ensemble import VotingClassifier\n",
    "from sklearn.neighbors import KNeighborsClassifier\n",
    "from sklearn.ensemble import GradientBoostingClassifier\n",
    "from sklearn.linear_model import LogisticRegression\n",
    "from sklearn.tree import export_graphviz\n",
    "from xgboost import XGBClassifier\n",
    "from lightgbm import LGBMClassifier\n",
    "import keras\n",
    "from keras import models\n",
    "from keras import layers"
   ]
  },
  {
   "cell_type": "code",
   "execution_count": 12,
   "metadata": {},
   "outputs": [
    {
     "name": "stdout",
     "output_type": "stream",
     "text": [
      "(284, 37)\n",
      "(248, 37)\n",
      "(247, 37)\n"
     ]
    }
   ],
   "source": [
    "df_total_hit_2012 = pd.read_excel(\"./backup/df_total_hit_2012.xlsx\")\n",
    "df_total_field_2012 = pd.read_excel(\"./backup/df_total_field_2012.xlsx\")\n",
    "\n",
    "player_hit_data_2012 = df_total_hit_2012\n",
    "player_field_data_2012 = df_total_field_2012\n",
    "\n",
    "# 불필요한 컬럼 삭제\n",
    "\n",
    "player_hit_data_2012 = player_hit_data_2012.drop(['Unnamed: 0', 'RK', 'del', 'del2', 'GO_AO', 'G'], axis=1)\n",
    "player_field_data_2012 = player_field_data_2012.drop(['Unnamed: 0', 'RK', 'del', 'del2', 'G', 'GS', 'SB', 'CS', 'SBPCT','PB','C_WP'], axis=1)\n",
    "\n",
    "# column Player & Team $ Position 기준 병합\n",
    "\n",
    "df_total_2012 = pd.merge(player_hit_data_2012, player_field_data_2012, on=['Player', 'Team', 'Pos']) # how='outer')\n",
    "df_total_2012.columns\n",
    "#df_total.to_excel(\"test.xlsx\")\n",
    "\n",
    "# 컬럼 조건문으로 행 추출하기 Position 컬럼에서 \"1B\", \"2B\", \"3B\", \"SS\"\n",
    "\n",
    "# 하나의 조건문이라면 \"해당 컬럼 == 하나조건\"으로 하면 되지만, \"해당컬럼.isin([여러조건])\"\n",
    "# df_total_hit_infld = df_total_hit[df_total_hit['Pos'] == \"2B\"]\n",
    "df_total_infld_2012 = df_total_2012[df_total_2012['Pos'].isin([\"1B\", \"2B\", \"3B\", \"SS\"])]\n",
    "df_total_infld_2012\n",
    "print(df_total_infld_2012.shape)\n",
    "\n",
    "# 타석수와 수비이닝의 최소값 제한\n",
    "\n",
    "df_total_infld_2012 = df_total_infld_2012[df_total_infld_2012['AB'] >= 50]\n",
    "print(df_total_infld_2012.shape)\n",
    "df_total_infld_2012 = df_total_infld_2012[df_total_infld_2012['INN'] >= 50]\n",
    "print(df_total_infld_2012.shape)"
   ]
  },
  {
   "cell_type": "code",
   "execution_count": 13,
   "metadata": {},
   "outputs": [
    {
     "data": {
      "text/plain": [
       "Player    247\n",
       "Team      247\n",
       "Pos       247\n",
       "AB        247\n",
       "R         247\n",
       "H         247\n",
       "2B        247\n",
       "3B        247\n",
       "HR        247\n",
       "RBI       247\n",
       "BB        247\n",
       "SO        247\n",
       "SB        247\n",
       "CS        247\n",
       "AVG       247\n",
       "OBP       247\n",
       "SLG       247\n",
       "OPS       247\n",
       "IBB       247\n",
       "HBP       247\n",
       "SAC       247\n",
       "SF        247\n",
       "TB        247\n",
       "XBH       247\n",
       "GDP       247\n",
       "GO        247\n",
       "AO        247\n",
       "NP        247\n",
       "PA        247\n",
       "INN       247\n",
       "TC        247\n",
       "PO        247\n",
       "A         247\n",
       "E         247\n",
       "DP        247\n",
       "FPCT      247\n",
       "RF        247\n",
       "dtype: int64"
      ]
     },
     "execution_count": 13,
     "metadata": {},
     "output_type": "execute_result"
    }
   ],
   "source": [
    "# Null 여부 확인\n",
    "\n",
    "df_total_infld_2012.isnull().count()"
   ]
  },
  {
   "cell_type": "code",
   "execution_count": 14,
   "metadata": {},
   "outputs": [
    {
     "name": "stdout",
     "output_type": "stream",
     "text": [
      "<class 'pandas.core.frame.DataFrame'>\n",
      "Int64Index: 247 entries, 24 to 695\n",
      "Data columns (total 33 columns):\n",
      "Pos     247 non-null object\n",
      "R       247 non-null int64\n",
      "H       247 non-null int64\n",
      "2B      247 non-null int64\n",
      "3B      247 non-null int64\n",
      "HR      247 non-null int64\n",
      "RBI     247 non-null int64\n",
      "BB      247 non-null int64\n",
      "SO      247 non-null int64\n",
      "SB      247 non-null int64\n",
      "CS      247 non-null int64\n",
      "AVG     247 non-null float64\n",
      "OBP     247 non-null float64\n",
      "SLG     247 non-null float64\n",
      "OPS     247 non-null float64\n",
      "IBB     247 non-null int64\n",
      "HBP     247 non-null int64\n",
      "SAC     247 non-null int64\n",
      "SF      247 non-null int64\n",
      "TB      247 non-null int64\n",
      "XBH     247 non-null int64\n",
      "GDP     247 non-null int64\n",
      "GO      247 non-null int64\n",
      "AO      247 non-null int64\n",
      "NP      247 non-null int64\n",
      "PA      247 non-null int64\n",
      "TC      247 non-null int64\n",
      "PO      247 non-null int64\n",
      "A       247 non-null int64\n",
      "E       247 non-null int64\n",
      "DP      247 non-null int64\n",
      "FPCT    247 non-null float64\n",
      "RF      247 non-null float64\n",
      "dtypes: float64(6), int64(26), object(1)\n",
      "memory usage: 65.6+ KB\n"
     ]
    }
   ],
   "source": [
    "# Playe와 Team 컬럼 삭제\n",
    "\n",
    "df_total_infld_2012.drop(['Player', 'Team'], axis=1, inplace=True)\n",
    "df_total_infld_2012.drop(['AB', 'INN'], axis=1, inplace=True)\n",
    "# df_total_infld.drop(['AVG', 'OBP', 'SLG', 'FPCT'], axis=1, inplace=True)\n",
    "\n",
    "df_total_infld_2012['AVG'] = df_total_infld_2012['AVG'].astype(float)\n",
    "df_total_infld_2012['OBP'] = df_total_infld_2012['OBP'].astype(float)\n",
    "df_total_infld_2012['SLG'] = df_total_infld_2012['SLG'].astype(float)\n",
    "df_total_infld_2012['FPCT'] = df_total_infld_2012['FPCT'].astype(float)\n",
    "df_total_infld_2012.info()"
   ]
  },
  {
   "cell_type": "code",
   "execution_count": 15,
   "metadata": {},
   "outputs": [
    {
     "name": "stdout",
     "output_type": "stream",
     "text": [
      "    Pos    R    H  2B  3B  HR  RBI  BB  SO  SB  ...   AO    NP   PA   TC   PO  \\\n",
      "24    1   14   29   6   1   0    7   4   9   0  ...   18   342   91   91   29   \n",
      "25    0   24   66  10   3   2   14   9  18   0  ...   42   768  210  118   35   \n",
      "26    0   59  126  44   0  14   56  94  85   5  ...   83  2042  475  972  850   \n",
      "36    3   11   24   5   3   2   14   7  19   2  ...   15   356   82   88   25   \n",
      "40    0  109  205  40   0  44  139  66  98   4  ...  171  2620  697  387  131   \n",
      "\n",
      "      A   E  DP   FPCT    RF  \n",
      "24   59   3  13  0.967  3.67  \n",
      "25   76   7   4  0.941  2.13  \n",
      "26  116   6  69  0.994  8.86  \n",
      "36   60   3  10  0.966  3.27  \n",
      "40  243  13  32  0.966  2.29  \n",
      "\n",
      "[5 rows x 33 columns]\n"
     ]
    }
   ],
   "source": [
    "# label 데이터 레이블 인코딩\n",
    "# from sklearn.preprocessing import OneHotEncoder\n",
    "# from sklearn.preprocessing import LabelEncoder\n",
    "\n",
    "encoder = LabelEncoder()\n",
    "encoder.fit(df_total_infld_2012['Pos'])\n",
    "df_total_infld_2012['Pos'] = encoder.transform(df_total_infld_2012['Pos'])\n",
    "#labels = labels.reshape(-1, 1)\n",
    "#print(df_total_infld_2012[:5])\n",
    "\n",
    "# 데이터 세트 분리 (피처 데이터 and 라벨 데이터)\n",
    "\n",
    "y_test_1 = df_total_infld_2012['Pos']\n",
    "x_test_1 = df_total_infld_2012.drop('Pos', axis=1)"
   ]
  },
  {
   "cell_type": "code",
   "execution_count": null,
   "metadata": {},
   "outputs": [],
   "source": []
  },
  {
   "cell_type": "code",
   "execution_count": null,
   "metadata": {},
   "outputs": [],
   "source": []
  }
 ],
 "metadata": {
  "kernelspec": {
   "display_name": "Python 3",
   "language": "python",
   "name": "python3"
  },
  "language_info": {
   "codemirror_mode": {
    "name": "ipython",
    "version": 3
   },
   "file_extension": ".py",
   "mimetype": "text/x-python",
   "name": "python",
   "nbconvert_exporter": "python",
   "pygments_lexer": "ipython3",
   "version": "3.6.10"
  }
 },
 "nbformat": 4,
 "nbformat_minor": 2
}
