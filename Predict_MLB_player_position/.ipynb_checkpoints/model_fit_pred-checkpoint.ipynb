{
 "cells": [
  {
   "cell_type": "code",
   "execution_count": 1,
   "metadata": {},
   "outputs": [
    {
     "name": "stderr",
     "output_type": "stream",
     "text": [
      "Using TensorFlow backend.\n",
      "C:\\Anaconda3\\envs\\nlp\\lib\\site-packages\\tensorflow\\python\\framework\\dtypes.py:526: FutureWarning: Passing (type, 1) or '1type' as a synonym of type is deprecated; in a future version of numpy, it will be understood as (type, (1,)) / '(1,)type'.\n",
      "  _np_qint8 = np.dtype([(\"qint8\", np.int8, 1)])\n",
      "C:\\Anaconda3\\envs\\nlp\\lib\\site-packages\\tensorflow\\python\\framework\\dtypes.py:527: FutureWarning: Passing (type, 1) or '1type' as a synonym of type is deprecated; in a future version of numpy, it will be understood as (type, (1,)) / '(1,)type'.\n",
      "  _np_quint8 = np.dtype([(\"quint8\", np.uint8, 1)])\n",
      "C:\\Anaconda3\\envs\\nlp\\lib\\site-packages\\tensorflow\\python\\framework\\dtypes.py:528: FutureWarning: Passing (type, 1) or '1type' as a synonym of type is deprecated; in a future version of numpy, it will be understood as (type, (1,)) / '(1,)type'.\n",
      "  _np_qint16 = np.dtype([(\"qint16\", np.int16, 1)])\n",
      "C:\\Anaconda3\\envs\\nlp\\lib\\site-packages\\tensorflow\\python\\framework\\dtypes.py:529: FutureWarning: Passing (type, 1) or '1type' as a synonym of type is deprecated; in a future version of numpy, it will be understood as (type, (1,)) / '(1,)type'.\n",
      "  _np_quint16 = np.dtype([(\"quint16\", np.uint16, 1)])\n",
      "C:\\Anaconda3\\envs\\nlp\\lib\\site-packages\\tensorflow\\python\\framework\\dtypes.py:530: FutureWarning: Passing (type, 1) or '1type' as a synonym of type is deprecated; in a future version of numpy, it will be understood as (type, (1,)) / '(1,)type'.\n",
      "  _np_qint32 = np.dtype([(\"qint32\", np.int32, 1)])\n",
      "C:\\Anaconda3\\envs\\nlp\\lib\\site-packages\\tensorflow\\python\\framework\\dtypes.py:535: FutureWarning: Passing (type, 1) or '1type' as a synonym of type is deprecated; in a future version of numpy, it will be understood as (type, (1,)) / '(1,)type'.\n",
      "  np_resource = np.dtype([(\"resource\", np.ubyte, 1)])\n"
     ]
    }
   ],
   "source": [
    "# 전처리 패키지\n",
    "from sklearn.preprocessing import OneHotEncoder\n",
    "from sklearn.preprocessing import LabelEncoder\n",
    "from sklearn.model_selection import train_test_split\n",
    "from sklearn.model_selection import cross_val_score\n",
    "from sklearn.model_selection import GridSearchCV\n",
    "from keras.utils import to_categorical\n",
    "from sklearn.metrics import accuracy_score\n",
    "from sklearn.preprocessing import MinMaxScaler\n",
    "from sklearn.preprocessing import StandardScaler\n",
    "\n",
    "# 모델 패키지\n",
    "from sklearn.ensemble import AdaBoostClassifier\n",
    "from sklearn.tree import DecisionTreeClassifier\n",
    "from sklearn.ensemble import RandomForestClassifier\n",
    "from sklearn.ensemble import VotingClassifier\n",
    "from sklearn.neighbors import KNeighborsClassifier\n",
    "from sklearn.ensemble import GradientBoostingClassifier\n",
    "from sklearn.linear_model import LogisticRegression\n",
    "from sklearn.tree import export_graphviz\n",
    "from xgboost import XGBClassifier\n",
    "from lightgbm import LGBMClassifier"
   ]
  },
  {
   "cell_type": "code",
   "execution_count": 19,
   "metadata": {},
   "outputs": [],
   "source": [
    "def ml_models(*data):\n",
    "    # 개별 ML 모델 생성\n",
    "    knn_clf = KNeighborsClassifier(n_neighbors=4)\n",
    "    rf_clf = RandomForestClassifier(n_estimators=100)\n",
    "    dt_clf = DecisionTreeClassifier()\n",
    "    ada_clf = AdaBoostClassifier(n_estimators=100)\n",
    "    gb_clf = GradientBoostingClassifier(random_state=0)\n",
    "    xgb_clf = XGBClassifier(n_estimators=100, learning_rate=0.03, max_depth=3)\n",
    "    lgbm_clf = LGBMClassifier(n_estimators=100)\n",
    "\n",
    "    # 스태킹으로 만들어진 데이터 세트 예측\n",
    "    lr_final = LogisticRegression(C=10)\n",
    "    \n",
    "    # 개별 ML 모델 학습 : fit\n",
    "    knn_clf.fit(data[0], data[1])\n",
    "    rf_clf.fit(data[0], data[1])\n",
    "    dt_clf.fit(data[0], data[1])\n",
    "    ada_clf.fit(data[0], data[1])\n",
    "    gb_clf.fit(data[0], data[1])\n",
    "    xgb_clf.fit(data[0], data[1])\n",
    "    lgbm_clf.fit(data[0], data[1])\n",
    "    \n",
    "    # 학습된 개별 모델들 예측 데이터 생성 후 test 데이터로 정확도 측정\n",
    "    knn_pred = knn_clf.predict(data[2])\n",
    "    rf_pred = rf_clf.predict(data[2])\n",
    "    dt_pred = dt_clf.predict(data[2])\n",
    "    ada_pred = ada_clf.predict(data[2])\n",
    "    gb_pred = gb_clf.predict(data[2])\n",
    "    xgb_pred = xgb_clf.predict(data[2])\n",
    "    lgbm_pred = lgbm_clf.predict(data[2])\n",
    "    \n",
    "    print('KNN 정확도: {0:.4f}'.format(accuracy_score(data[3], knn_pred)))\n",
    "    print('RF 정확도: {0:.4f}'.format(accuracy_score(data[3], rf_pred)))\n",
    "    print('DT 정확도: {0:.4f}'.format(accuracy_score(data[3], dt_pred)))\n",
    "    print('ADA 정확도: {0:.4f}'.format(accuracy_score(data[3], ada_pred)))\n",
    "    print('GB 정확도: {0:.4f}'.format(accuracy_score(data[3], gb_pred)))\n",
    "    print('XGB 정확도: {0:.4f}'.format(accuracy_score(data[3], xgb_pred)))\n",
    "    print('LGBM 정확도: {0:.4f}'.format(accuracy_score(data[3], lgbm_pred)))"
   ]
  },
  {
   "cell_type": "code",
   "execution_count": null,
   "metadata": {},
   "outputs": [],
   "source": []
  }
 ],
 "metadata": {
  "kernelspec": {
   "display_name": "Python 3",
   "language": "python",
   "name": "python3"
  },
  "language_info": {
   "codemirror_mode": {
    "name": "ipython",
    "version": 3
   },
   "file_extension": ".py",
   "mimetype": "text/x-python",
   "name": "python",
   "nbconvert_exporter": "python",
   "pygments_lexer": "ipython3",
   "version": "3.6.10"
  }
 },
 "nbformat": 4,
 "nbformat_minor": 2
}
