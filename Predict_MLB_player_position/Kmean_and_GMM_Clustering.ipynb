{
 "cells": [
  {
   "cell_type": "code",
   "execution_count": 52,
   "metadata": {},
   "outputs": [],
   "source": [
    "from sklearn.datasets import load_iris\n",
    "from sklearn.cluster import KMeans\n",
    "from sklearn.preprocessing import StandardScaler\n",
    "from sklearn.metrics import silhouette_score, silhouette_samples\n",
    "\n",
    "import matplotlib.pyplot as plt\n",
    "import numpy as np\n",
    "import pandas as pd\n",
    "%matplotlib inline"
   ]
  },
  {
   "cell_type": "code",
   "execution_count": 45,
   "metadata": {},
   "outputs": [],
   "source": [
    "mlbDF = pd.read_excel(\"./backup/knn_dataset.xlsx\")\n",
    "mlbDF.drop(['Unnamed: 0'], axis=1, inplace=True)"
   ]
  },
  {
   "cell_type": "code",
   "execution_count": 49,
   "metadata": {},
   "outputs": [],
   "source": [
    "mlb_target = mlbDF['Pos']\n",
    "mlb_data = mlbDF.drop('Pos', axis=1)\n",
    "scaler = StandardScaler()\n",
    "scaler.fit(mlb_data)\n",
    "mlb_data = scaler.transform(mlb_data)"
   ]
  },
  {
   "cell_type": "code",
   "execution_count": 54,
   "metadata": {},
   "outputs": [],
   "source": [
    "### 클러스터 결과를 담은 DataFrame과 사이킷런의 Cluster 객체등을 인자로 받아 클러스터링 결과를 시각화하는 함수  \n",
    "def visualize_cluster_plot(clusterobj, dataframe, label_name, iscenter=True):\n",
    "    if iscenter :\n",
    "        centers = clusterobj.cluster_centers_\n",
    "        \n",
    "    unique_labels = np.unique(dataframe[label_name].values)\n",
    "    markers=['o', 's', '^', 'x', '*']\n",
    "    isNoise=False\n",
    "\n",
    "    for label in unique_labels:\n",
    "        label_cluster = dataframe[dataframe[label_name]==label]\n",
    "        if label == -1:\n",
    "            cluster_legend = 'Noise'\n",
    "            isNoise=True\n",
    "        else :\n",
    "            cluster_legend = 'Cluster '+str(label)\n",
    "        \n",
    "        plt.scatter(x=label_cluster['ftr1'], y=label_cluster['ftr2'], s=70,\\\n",
    "                    edgecolor='k', marker=markers[label], label=cluster_legend)\n",
    "        \n",
    "        if iscenter:\n",
    "            center_x_y = centers[label]\n",
    "            plt.scatter(x=center_x_y[0], y=center_x_y[1], s=250, color='white',\n",
    "                        alpha=0.9, edgecolor='k', marker=markers[label])\n",
    "            plt.scatter(x=center_x_y[0], y=center_x_y[1], s=70, color='k',\\\n",
    "                        edgecolor='k', marker='$%d$' % label)\n",
    "    if isNoise:\n",
    "        legend_loc='upper center'\n",
    "    else: legend_loc='upper right'\n",
    "    \n",
    "    plt.legend(loc=legend_loc)\n",
    "    plt.show()"
   ]
  },
  {
   "cell_type": "code",
   "execution_count": 58,
   "metadata": {},
   "outputs": [
    {
     "name": "stdout",
     "output_type": "stream",
     "text": [
      "실루엣 스코어는 : 0.143\n",
      "Pos  gmm_cluster\n",
      "0    1              23\n",
      "     2              16\n",
      "     3              11\n",
      "     0               8\n",
      "1    2              22\n",
      "     3              18\n",
      "     1              16\n",
      "     0              12\n",
      "2    1              22\n",
      "     2              20\n",
      "     0              13\n",
      "     3              12\n",
      "3    1              24\n",
      "     2              10\n",
      "     3               9\n",
      "     0               8\n",
      "Name: gmm_cluster, dtype: int64\n"
     ]
    }
   ],
   "source": [
    "from sklearn.mixture import GaussianMixture\n",
    "\n",
    "gmm = GaussianMixture(n_components=4, random_state=0).fit(mlb_data)\n",
    "gmm_cluster_labels = gmm.predict(mlb_data)\n",
    "\n",
    "mlbDF['gmm_cluster'] = gmm_cluster_labels\n",
    "print('실루엣 스코어는 : {0:.3f}'.format(silhouette_score(mlb_data, gmm_cluster_labels)))\n",
    "mlbDF['Pos'] = mlb_target\n",
    "\n",
    "mlb_result = mlbDF.groupby(['Pos'])['gmm_cluster'].value_counts()\n",
    "print(mlb_result)"
   ]
  },
  {
   "cell_type": "code",
   "execution_count": 60,
   "metadata": {},
   "outputs": [
    {
     "name": "stdout",
     "output_type": "stream",
     "text": [
      "실루엣 스코어는 : 0.243\n",
      "Pos  kmeans_cluster\n",
      "0    0                 21\n",
      "     3                 18\n",
      "     1                 16\n",
      "     2                  3\n",
      "1    3                 28\n",
      "     1                 24\n",
      "     2                 16\n",
      "2    2                 24\n",
      "     3                 24\n",
      "     1                 19\n",
      "3    2                 25\n",
      "     3                 15\n",
      "     1                 11\n",
      "Name: kmeans_cluster, dtype: int64\n"
     ]
    }
   ],
   "source": [
    "kmeans = KMeans(n_clusters=4, init='k-means++', max_iter=300, random_state=0).fit(mlb_data)\n",
    "kmeans_cluster_labels = kmeans.predict(mlb_data)\n",
    "mlbDF['kmeans_cluster'] = kmeans_cluster_labels\n",
    "mlb_result = mlbDF.groupby(['Pos'])['kmeans_cluster'].value_counts()\n",
    "print('실루엣 스코어는 : {0:.3f}'.format(silhouette_score(mlb_data, kmeans_cluster_labels)))\n",
    "\n",
    "print(mlb_result)"
   ]
  },
  {
   "cell_type": "code",
   "execution_count": null,
   "metadata": {},
   "outputs": [],
   "source": []
  }
 ],
 "metadata": {
  "kernelspec": {
   "display_name": "Python 3",
   "language": "python",
   "name": "python3"
  },
  "language_info": {
   "codemirror_mode": {
    "name": "ipython",
    "version": 3
   },
   "file_extension": ".py",
   "mimetype": "text/x-python",
   "name": "python",
   "nbconvert_exporter": "python",
   "pygments_lexer": "ipython3",
   "version": "3.6.10"
  }
 },
 "nbformat": 4,
 "nbformat_minor": 2
}
