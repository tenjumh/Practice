{
 "cells": [
  {
   "cell_type": "markdown",
   "metadata": {},
   "source": [
    "# 필요 라이브러리 호출"
   ]
  },
  {
   "cell_type": "code",
   "execution_count": 1,
   "metadata": {},
   "outputs": [
    {
     "name": "stderr",
     "output_type": "stream",
     "text": [
      "Using TensorFlow backend.\n",
      "C:\\Anaconda3\\envs\\nlp\\lib\\site-packages\\tensorflow\\python\\framework\\dtypes.py:526: FutureWarning: Passing (type, 1) or '1type' as a synonym of type is deprecated; in a future version of numpy, it will be understood as (type, (1,)) / '(1,)type'.\n",
      "  _np_qint8 = np.dtype([(\"qint8\", np.int8, 1)])\n",
      "C:\\Anaconda3\\envs\\nlp\\lib\\site-packages\\tensorflow\\python\\framework\\dtypes.py:527: FutureWarning: Passing (type, 1) or '1type' as a synonym of type is deprecated; in a future version of numpy, it will be understood as (type, (1,)) / '(1,)type'.\n",
      "  _np_quint8 = np.dtype([(\"quint8\", np.uint8, 1)])\n",
      "C:\\Anaconda3\\envs\\nlp\\lib\\site-packages\\tensorflow\\python\\framework\\dtypes.py:528: FutureWarning: Passing (type, 1) or '1type' as a synonym of type is deprecated; in a future version of numpy, it will be understood as (type, (1,)) / '(1,)type'.\n",
      "  _np_qint16 = np.dtype([(\"qint16\", np.int16, 1)])\n",
      "C:\\Anaconda3\\envs\\nlp\\lib\\site-packages\\tensorflow\\python\\framework\\dtypes.py:529: FutureWarning: Passing (type, 1) or '1type' as a synonym of type is deprecated; in a future version of numpy, it will be understood as (type, (1,)) / '(1,)type'.\n",
      "  _np_quint16 = np.dtype([(\"quint16\", np.uint16, 1)])\n",
      "C:\\Anaconda3\\envs\\nlp\\lib\\site-packages\\tensorflow\\python\\framework\\dtypes.py:530: FutureWarning: Passing (type, 1) or '1type' as a synonym of type is deprecated; in a future version of numpy, it will be understood as (type, (1,)) / '(1,)type'.\n",
      "  _np_qint32 = np.dtype([(\"qint32\", np.int32, 1)])\n",
      "C:\\Anaconda3\\envs\\nlp\\lib\\site-packages\\tensorflow\\python\\framework\\dtypes.py:535: FutureWarning: Passing (type, 1) or '1type' as a synonym of type is deprecated; in a future version of numpy, it will be understood as (type, (1,)) / '(1,)type'.\n",
      "  np_resource = np.dtype([(\"resource\", np.ubyte, 1)])\n"
     ]
    }
   ],
   "source": [
    "# 기폰 패키지\n",
    "import pandas as pd\n",
    "import numpy as np\n",
    "from selenium import webdriver\n",
    "from bs4 import BeautifulSoup\n",
    "from html_table_parser import parser_functions as parser\n",
    "import time\n",
    "import matplotlib.pyplot as plt\n",
    "\n",
    "# 전처리 패키지\n",
    "from sklearn.preprocessing import OneHotEncoder\n",
    "from sklearn.preprocessing import LabelEncoder\n",
    "from sklearn.model_selection import train_test_split\n",
    "from sklearn.model_selection import cross_val_score\n",
    "from sklearn.model_selection import GridSearchCV\n",
    "from keras.utils import to_categorical\n",
    "from sklearn.metrics import accuracy_score\n",
    "from sklearn.preprocessing import MinMaxScaler\n",
    "\n",
    "# 모델 패키지\n",
    "from sklearn.ensemble import AdaBoostClassifier\n",
    "from sklearn.tree import DecisionTreeClassifier\n",
    "from sklearn.ensemble import RandomForestClassifier\n",
    "from sklearn.ensemble import VotingClassifier\n",
    "from sklearn.neighbors import KNeighborsClassifier\n",
    "from sklearn.ensemble import GradientBoostingClassifier\n",
    "from sklearn.linear_model import LogisticRegression\n",
    "from sklearn.tree import export_graphviz\n",
    "from xgboost import XGBClassifier\n",
    "from lightgbm import LGBMClassifier\n",
    "import keras\n",
    "from keras import models\n",
    "from keras import layers"
   ]
  },
  {
   "cell_type": "markdown",
   "metadata": {},
   "source": [
    "# 데이터 크롤링"
   ]
  },
  {
   "cell_type": "code",
   "execution_count": null,
   "metadata": {},
   "outputs": [],
   "source": [
    "from mlb_data_crawling import hit_data, field_data"
   ]
  },
  {
   "cell_type": "markdown",
   "metadata": {},
   "source": [
    "# 데이터 전처리"
   ]
  },
  {
   "cell_type": "code",
   "execution_count": 3,
   "metadata": {},
   "outputs": [],
   "source": [
    "df_total_hit = pd.read_excel(\"./backup/df_total_hit.xlsx\")\n",
    "df_total_field = pd.read_excel(\"./backup/df_total_field.xlsx\")"
   ]
  },
  {
   "cell_type": "code",
   "execution_count": 4,
   "metadata": {},
   "outputs": [],
   "source": [
    "player_hit_data = df_total_hit\n",
    "player_field_data = df_total_field"
   ]
  },
  {
   "cell_type": "code",
   "execution_count": 5,
   "metadata": {},
   "outputs": [
    {
     "data": {
      "text/plain": [
       "Index(['Player', 'Team', 'Pos', 'AB', 'R', 'H', '2B', '3B', 'HR', 'RBI', 'BB',\n",
       "       'SO', 'SB', 'CS', 'AVG', 'OBP', 'SLG', 'OPS', 'IBB', 'HBP', 'SAC', 'SF',\n",
       "       'TB', 'XBH', 'GDP', 'GO', 'AO', 'NP', 'PA', 'INN', 'TC', 'PO', 'A', 'E',\n",
       "       'DP', 'FPCT', 'RF'],\n",
       "      dtype='object')"
      ]
     },
     "execution_count": 5,
     "metadata": {},
     "output_type": "execute_result"
    }
   ],
   "source": [
    "# 불필요한 컬럼 삭제\n",
    "\n",
    "player_hit_data = player_hit_data.drop(['Unnamed: 0', 'RK', 'del', 'del2', 'GO_AO', 'G'], axis=1)\n",
    "player_field_data = player_field_data.drop(['Unnamed: 0', 'RK', 'del', 'del2', 'G', 'GS', 'SB', 'CS', 'SBPCT','PB','C_WP'], axis=1)\n",
    "\n",
    "# column Player & Team $ Position 기준 병합\n",
    "\n",
    "df_total = pd.merge(player_hit_data, player_field_data, on=['Player', 'Team', 'Pos']) # how='outer')\n",
    "df_total.columns\n",
    "#df_total.to_excel(\"test.xlsx\")\n"
   ]
  },
  {
   "cell_type": "code",
   "execution_count": 6,
   "metadata": {},
   "outputs": [
    {
     "name": "stdout",
     "output_type": "stream",
     "text": [
      "(288, 37)\n",
      "(244, 37)\n",
      "(244, 37)\n"
     ]
    }
   ],
   "source": [
    "# 컬럼 조건문으로 행 추출하기 Position 컬럼에서 \"1B\", \"2B\", \"3B\", \"SS\"\n",
    "\n",
    "# 하나의 조건문이라면 \"해당 컬럼 == 하나조건\"으로 하면 되지만, \"해당컬럼.isin([여러조건])\"\n",
    "# df_total_hit_infld = df_total_hit[df_total_hit['Pos'] == \"2B\"]\n",
    "df_total_infld = df_total[df_total['Pos'].isin([\"1B\", \"2B\", \"3B\", \"SS\"])]\n",
    "df_total_infld\n",
    "print(df_total_infld.shape)\n",
    "\n",
    "# 타석수와 수비이닝의 최소값 제한\n",
    "\n",
    "df_total_infld = df_total_infld[df_total_infld['AB'] >= 50]\n",
    "print(df_total_infld.shape)\n",
    "df_total_infld = df_total_infld[df_total_infld['INN'] >= 50]\n",
    "print(df_total_infld.shape)"
   ]
  },
  {
   "cell_type": "code",
   "execution_count": 7,
   "metadata": {},
   "outputs": [
    {
     "data": {
      "text/plain": [
       "Player    244\n",
       "Team      244\n",
       "Pos       244\n",
       "AB        244\n",
       "R         244\n",
       "H         244\n",
       "2B        244\n",
       "3B        244\n",
       "HR        244\n",
       "RBI       244\n",
       "BB        244\n",
       "SO        244\n",
       "SB        244\n",
       "CS        244\n",
       "AVG       244\n",
       "OBP       244\n",
       "SLG       244\n",
       "OPS       244\n",
       "IBB       244\n",
       "HBP       244\n",
       "SAC       244\n",
       "SF        244\n",
       "TB        244\n",
       "XBH       244\n",
       "GDP       244\n",
       "GO        244\n",
       "AO        244\n",
       "NP        244\n",
       "PA        244\n",
       "INN       244\n",
       "TC        244\n",
       "PO        244\n",
       "A         244\n",
       "E         244\n",
       "DP        244\n",
       "FPCT      244\n",
       "RF        244\n",
       "dtype: int64"
      ]
     },
     "execution_count": 7,
     "metadata": {},
     "output_type": "execute_result"
    }
   ],
   "source": [
    "# Null 여부 확인\n",
    "\n",
    "df_total_infld.isnull().count()"
   ]
  },
  {
   "cell_type": "code",
   "execution_count": 8,
   "metadata": {},
   "outputs": [
    {
     "name": "stdout",
     "output_type": "stream",
     "text": [
      "<class 'pandas.core.frame.DataFrame'>\n",
      "Int64Index: 244 entries, 22 to 688\n",
      "Data columns (total 33 columns):\n",
      "Pos     244 non-null object\n",
      "R       244 non-null int64\n",
      "H       244 non-null int64\n",
      "2B      244 non-null int64\n",
      "3B      244 non-null int64\n",
      "HR      244 non-null int64\n",
      "RBI     244 non-null int64\n",
      "BB      244 non-null int64\n",
      "SO      244 non-null int64\n",
      "SB      244 non-null int64\n",
      "CS      244 non-null int64\n",
      "AVG     244 non-null float64\n",
      "OBP     244 non-null float64\n",
      "SLG     244 non-null float64\n",
      "OPS     244 non-null float64\n",
      "IBB     244 non-null int64\n",
      "HBP     244 non-null int64\n",
      "SAC     244 non-null int64\n",
      "SF      244 non-null int64\n",
      "TB      244 non-null int64\n",
      "XBH     244 non-null int64\n",
      "GDP     244 non-null int64\n",
      "GO      244 non-null int64\n",
      "AO      244 non-null int64\n",
      "NP      244 non-null int64\n",
      "PA      244 non-null int64\n",
      "TC      244 non-null int64\n",
      "PO      244 non-null int64\n",
      "A       244 non-null int64\n",
      "E       244 non-null int64\n",
      "DP      244 non-null int64\n",
      "FPCT    244 non-null float64\n",
      "RF      244 non-null float64\n",
      "dtypes: float64(6), int64(26), object(1)\n",
      "memory usage: 64.8+ KB\n"
     ]
    }
   ],
   "source": [
    "# Playe와 Team 컬럼 삭제\n",
    "\n",
    "df_total_infld.drop(['Player', 'Team'], axis=1, inplace=True)\n",
    "df_total_infld.drop(['AB', 'INN'], axis=1, inplace=True)\n",
    "# df_total_infld.drop(['AVG', 'OBP', 'SLG', 'FPCT'], axis=1, inplace=True)\n",
    "\n",
    "df_total_infld['AVG'] = df_total_infld['AVG'].astype(float)\n",
    "df_total_infld['OBP'] = df_total_infld['OBP'].astype(float)\n",
    "df_total_infld['SLG'] = df_total_infld['SLG'].astype(float)\n",
    "df_total_infld['FPCT'] = df_total_infld['FPCT'].astype(float)\n",
    "df_total_infld.info()"
   ]
  },
  {
   "cell_type": "markdown",
   "metadata": {},
   "source": [
    "# 데이터 분석하기"
   ]
  },
  {
   "cell_type": "code",
   "execution_count": 9,
   "metadata": {},
   "outputs": [
    {
     "data": {
      "text/html": [
       "<div>\n",
       "<style scoped>\n",
       "    .dataframe tbody tr th:only-of-type {\n",
       "        vertical-align: middle;\n",
       "    }\n",
       "\n",
       "    .dataframe tbody tr th {\n",
       "        vertical-align: top;\n",
       "    }\n",
       "\n",
       "    .dataframe thead tr th {\n",
       "        text-align: left;\n",
       "    }\n",
       "\n",
       "    .dataframe thead tr:last-of-type th {\n",
       "        text-align: right;\n",
       "    }\n",
       "</style>\n",
       "<table border=\"1\" class=\"dataframe\">\n",
       "  <thead>\n",
       "    <tr>\n",
       "      <th></th>\n",
       "      <th>R</th>\n",
       "      <th>H</th>\n",
       "      <th>2B</th>\n",
       "      <th>3B</th>\n",
       "      <th>HR</th>\n",
       "      <th>RBI</th>\n",
       "      <th>BB</th>\n",
       "      <th>SO</th>\n",
       "      <th>SB</th>\n",
       "      <th>CS</th>\n",
       "      <th>...</th>\n",
       "      <th>AO</th>\n",
       "      <th>NP</th>\n",
       "      <th>PA</th>\n",
       "      <th>TC</th>\n",
       "      <th>PO</th>\n",
       "      <th>A</th>\n",
       "      <th>E</th>\n",
       "      <th>DP</th>\n",
       "      <th>FPCT</th>\n",
       "      <th>RF</th>\n",
       "    </tr>\n",
       "    <tr>\n",
       "      <th></th>\n",
       "      <th>mean</th>\n",
       "      <th>mean</th>\n",
       "      <th>mean</th>\n",
       "      <th>mean</th>\n",
       "      <th>mean</th>\n",
       "      <th>mean</th>\n",
       "      <th>mean</th>\n",
       "      <th>mean</th>\n",
       "      <th>mean</th>\n",
       "      <th>mean</th>\n",
       "      <th>...</th>\n",
       "      <th>mean</th>\n",
       "      <th>mean</th>\n",
       "      <th>mean</th>\n",
       "      <th>mean</th>\n",
       "      <th>mean</th>\n",
       "      <th>mean</th>\n",
       "      <th>mean</th>\n",
       "      <th>mean</th>\n",
       "      <th>mean</th>\n",
       "      <th>mean</th>\n",
       "    </tr>\n",
       "    <tr>\n",
       "      <th>Pos</th>\n",
       "      <th></th>\n",
       "      <th></th>\n",
       "      <th></th>\n",
       "      <th></th>\n",
       "      <th></th>\n",
       "      <th></th>\n",
       "      <th></th>\n",
       "      <th></th>\n",
       "      <th></th>\n",
       "      <th></th>\n",
       "      <th></th>\n",
       "      <th></th>\n",
       "      <th></th>\n",
       "      <th></th>\n",
       "      <th></th>\n",
       "      <th></th>\n",
       "      <th></th>\n",
       "      <th></th>\n",
       "      <th></th>\n",
       "      <th></th>\n",
       "      <th></th>\n",
       "    </tr>\n",
       "  </thead>\n",
       "  <tbody>\n",
       "    <tr>\n",
       "      <th>1B</th>\n",
       "      <td>48.534483</td>\n",
       "      <td>84.189655</td>\n",
       "      <td>17.620690</td>\n",
       "      <td>0.879310</td>\n",
       "      <td>16.655172</td>\n",
       "      <td>53.068966</td>\n",
       "      <td>41.103448</td>\n",
       "      <td>89.241379</td>\n",
       "      <td>1.482759</td>\n",
       "      <td>0.655172</td>\n",
       "      <td>...</td>\n",
       "      <td>86.103448</td>\n",
       "      <td>1564.258621</td>\n",
       "      <td>384.862069</td>\n",
       "      <td>591.517241</td>\n",
       "      <td>533.189655</td>\n",
       "      <td>53.586207</td>\n",
       "      <td>4.741379</td>\n",
       "      <td>52.982759</td>\n",
       "      <td>0.991207</td>\n",
       "      <td>5.598103</td>\n",
       "    </tr>\n",
       "    <tr>\n",
       "      <th>2B</th>\n",
       "      <td>40.985294</td>\n",
       "      <td>77.985294</td>\n",
       "      <td>14.882353</td>\n",
       "      <td>1.705882</td>\n",
       "      <td>9.970588</td>\n",
       "      <td>36.558824</td>\n",
       "      <td>25.426471</td>\n",
       "      <td>66.220588</td>\n",
       "      <td>5.000000</td>\n",
       "      <td>1.970588</td>\n",
       "      <td>...</td>\n",
       "      <td>79.411765</td>\n",
       "      <td>1284.088235</td>\n",
       "      <td>332.882353</td>\n",
       "      <td>299.455882</td>\n",
       "      <td>129.617647</td>\n",
       "      <td>163.676471</td>\n",
       "      <td>6.161765</td>\n",
       "      <td>39.602941</td>\n",
       "      <td>0.976176</td>\n",
       "      <td>3.037500</td>\n",
       "    </tr>\n",
       "    <tr>\n",
       "      <th>3B</th>\n",
       "      <td>46.895522</td>\n",
       "      <td>84.761194</td>\n",
       "      <td>17.746269</td>\n",
       "      <td>1.507463</td>\n",
       "      <td>14.268657</td>\n",
       "      <td>47.179104</td>\n",
       "      <td>32.208955</td>\n",
       "      <td>77.597015</td>\n",
       "      <td>2.970149</td>\n",
       "      <td>1.208955</td>\n",
       "      <td>...</td>\n",
       "      <td>85.880597</td>\n",
       "      <td>1427.611940</td>\n",
       "      <td>362.000000</td>\n",
       "      <td>246.567164</td>\n",
       "      <td>103.716418</td>\n",
       "      <td>135.462687</td>\n",
       "      <td>7.388060</td>\n",
       "      <td>19.776119</td>\n",
       "      <td>0.969716</td>\n",
       "      <td>2.613582</td>\n",
       "    </tr>\n",
       "    <tr>\n",
       "      <th>SS</th>\n",
       "      <td>51.921569</td>\n",
       "      <td>96.843137</td>\n",
       "      <td>20.117647</td>\n",
       "      <td>2.254902</td>\n",
       "      <td>13.235294</td>\n",
       "      <td>46.352941</td>\n",
       "      <td>28.098039</td>\n",
       "      <td>79.274510</td>\n",
       "      <td>7.607843</td>\n",
       "      <td>2.725490</td>\n",
       "      <td>...</td>\n",
       "      <td>93.176471</td>\n",
       "      <td>1513.470588</td>\n",
       "      <td>395.254902</td>\n",
       "      <td>350.078431</td>\n",
       "      <td>116.019608</td>\n",
       "      <td>225.058824</td>\n",
       "      <td>9.000000</td>\n",
       "      <td>47.470588</td>\n",
       "      <td>0.975039</td>\n",
       "      <td>3.280784</td>\n",
       "    </tr>\n",
       "  </tbody>\n",
       "</table>\n",
       "<p>4 rows × 32 columns</p>\n",
       "</div>"
      ],
      "text/plain": [
       "             R          H         2B        3B         HR        RBI  \\\n",
       "          mean       mean       mean      mean       mean       mean   \n",
       "Pos                                                                    \n",
       "1B   48.534483  84.189655  17.620690  0.879310  16.655172  53.068966   \n",
       "2B   40.985294  77.985294  14.882353  1.705882   9.970588  36.558824   \n",
       "3B   46.895522  84.761194  17.746269  1.507463  14.268657  47.179104   \n",
       "SS   51.921569  96.843137  20.117647  2.254902  13.235294  46.352941   \n",
       "\n",
       "            BB         SO        SB        CS  ...         AO           NP  \\\n",
       "          mean       mean      mean      mean  ...       mean         mean   \n",
       "Pos                                            ...                           \n",
       "1B   41.103448  89.241379  1.482759  0.655172  ...  86.103448  1564.258621   \n",
       "2B   25.426471  66.220588  5.000000  1.970588  ...  79.411765  1284.088235   \n",
       "3B   32.208955  77.597015  2.970149  1.208955  ...  85.880597  1427.611940   \n",
       "SS   28.098039  79.274510  7.607843  2.725490  ...  93.176471  1513.470588   \n",
       "\n",
       "             PA          TC          PO           A         E         DP  \\\n",
       "           mean        mean        mean        mean      mean       mean   \n",
       "Pos                                                                        \n",
       "1B   384.862069  591.517241  533.189655   53.586207  4.741379  52.982759   \n",
       "2B   332.882353  299.455882  129.617647  163.676471  6.161765  39.602941   \n",
       "3B   362.000000  246.567164  103.716418  135.462687  7.388060  19.776119   \n",
       "SS   395.254902  350.078431  116.019608  225.058824  9.000000  47.470588   \n",
       "\n",
       "         FPCT        RF  \n",
       "         mean      mean  \n",
       "Pos                      \n",
       "1B   0.991207  5.598103  \n",
       "2B   0.976176  3.037500  \n",
       "3B   0.969716  2.613582  \n",
       "SS   0.975039  3.280784  \n",
       "\n",
       "[4 rows x 32 columns]"
      ]
     },
     "execution_count": 9,
     "metadata": {},
     "output_type": "execute_result"
    }
   ],
   "source": [
    "# 포지션 별로 각 수치 평균\n",
    "\n",
    "df_total_infld.groupby('Pos').agg(['mean'])"
   ]
  },
  {
   "cell_type": "code",
   "execution_count": 10,
   "metadata": {},
   "outputs": [
    {
     "data": {
      "text/html": [
       "<div>\n",
       "<style scoped>\n",
       "    .dataframe tbody tr th:only-of-type {\n",
       "        vertical-align: middle;\n",
       "    }\n",
       "\n",
       "    .dataframe tbody tr th {\n",
       "        vertical-align: top;\n",
       "    }\n",
       "\n",
       "    .dataframe thead th {\n",
       "        text-align: right;\n",
       "    }\n",
       "</style>\n",
       "<table border=\"1\" class=\"dataframe\">\n",
       "  <thead>\n",
       "    <tr style=\"text-align: right;\">\n",
       "      <th></th>\n",
       "      <th>R</th>\n",
       "      <th>H</th>\n",
       "      <th>2B</th>\n",
       "      <th>3B</th>\n",
       "      <th>HR</th>\n",
       "      <th>RBI</th>\n",
       "      <th>BB</th>\n",
       "      <th>SO</th>\n",
       "      <th>SB</th>\n",
       "      <th>CS</th>\n",
       "      <th>...</th>\n",
       "      <th>AO</th>\n",
       "      <th>NP</th>\n",
       "      <th>PA</th>\n",
       "      <th>TC</th>\n",
       "      <th>PO</th>\n",
       "      <th>A</th>\n",
       "      <th>E</th>\n",
       "      <th>DP</th>\n",
       "      <th>FPCT</th>\n",
       "      <th>RF</th>\n",
       "    </tr>\n",
       "  </thead>\n",
       "  <tbody>\n",
       "    <tr>\n",
       "      <th>count</th>\n",
       "      <td>244.000000</td>\n",
       "      <td>244.000000</td>\n",
       "      <td>244.000000</td>\n",
       "      <td>244.000000</td>\n",
       "      <td>244.000000</td>\n",
       "      <td>244.000000</td>\n",
       "      <td>244.000000</td>\n",
       "      <td>244.000000</td>\n",
       "      <td>244.000000</td>\n",
       "      <td>244.000000</td>\n",
       "      <td>...</td>\n",
       "      <td>244.000000</td>\n",
       "      <td>244.000000</td>\n",
       "      <td>244.000000</td>\n",
       "      <td>244.000000</td>\n",
       "      <td>244.000000</td>\n",
       "      <td>244.000000</td>\n",
       "      <td>244.000000</td>\n",
       "      <td>244.000000</td>\n",
       "      <td>244.000000</td>\n",
       "      <td>244.000000</td>\n",
       "    </tr>\n",
       "    <tr>\n",
       "      <th>mean</th>\n",
       "      <td>46.688525</td>\n",
       "      <td>85.262295</td>\n",
       "      <td>17.413934</td>\n",
       "      <td>1.569672</td>\n",
       "      <td>13.422131</td>\n",
       "      <td>45.446721</td>\n",
       "      <td>31.573770</td>\n",
       "      <td>77.545082</td>\n",
       "      <td>4.151639</td>\n",
       "      <td>1.606557</td>\n",
       "      <td>...</td>\n",
       "      <td>85.655738</td>\n",
       "      <td>1438.040984</td>\n",
       "      <td>366.270492</td>\n",
       "      <td>364.938525</td>\n",
       "      <td>215.594262</td>\n",
       "      <td>142.590164</td>\n",
       "      <td>6.754098</td>\n",
       "      <td>38.983607</td>\n",
       "      <td>0.977738</td>\n",
       "      <td>3.580615</td>\n",
       "    </tr>\n",
       "    <tr>\n",
       "      <th>std</th>\n",
       "      <td>31.251688</td>\n",
       "      <td>53.335309</td>\n",
       "      <td>11.646931</td>\n",
       "      <td>1.977045</td>\n",
       "      <td>11.319076</td>\n",
       "      <td>31.514208</td>\n",
       "      <td>23.825987</td>\n",
       "      <td>43.462699</td>\n",
       "      <td>6.459557</td>\n",
       "      <td>2.125903</td>\n",
       "      <td>...</td>\n",
       "      <td>53.572960</td>\n",
       "      <td>805.259173</td>\n",
       "      <td>204.318119</td>\n",
       "      <td>280.713260</td>\n",
       "      <td>261.610105</td>\n",
       "      <td>115.275177</td>\n",
       "      <td>5.141314</td>\n",
       "      <td>30.966325</td>\n",
       "      <td>0.015712</td>\n",
       "      <td>1.678170</td>\n",
       "    </tr>\n",
       "    <tr>\n",
       "      <th>min</th>\n",
       "      <td>3.000000</td>\n",
       "      <td>7.000000</td>\n",
       "      <td>0.000000</td>\n",
       "      <td>0.000000</td>\n",
       "      <td>0.000000</td>\n",
       "      <td>3.000000</td>\n",
       "      <td>1.000000</td>\n",
       "      <td>11.000000</td>\n",
       "      <td>0.000000</td>\n",
       "      <td>0.000000</td>\n",
       "      <td>...</td>\n",
       "      <td>6.000000</td>\n",
       "      <td>218.000000</td>\n",
       "      <td>56.000000</td>\n",
       "      <td>21.000000</td>\n",
       "      <td>8.000000</td>\n",
       "      <td>1.000000</td>\n",
       "      <td>0.000000</td>\n",
       "      <td>1.000000</td>\n",
       "      <td>0.929000</td>\n",
       "      <td>1.220000</td>\n",
       "    </tr>\n",
       "    <tr>\n",
       "      <th>25%</th>\n",
       "      <td>19.750000</td>\n",
       "      <td>36.000000</td>\n",
       "      <td>7.000000</td>\n",
       "      <td>0.000000</td>\n",
       "      <td>4.000000</td>\n",
       "      <td>17.750000</td>\n",
       "      <td>13.000000</td>\n",
       "      <td>40.000000</td>\n",
       "      <td>0.000000</td>\n",
       "      <td>0.000000</td>\n",
       "      <td>...</td>\n",
       "      <td>36.750000</td>\n",
       "      <td>706.250000</td>\n",
       "      <td>173.000000</td>\n",
       "      <td>155.500000</td>\n",
       "      <td>65.500000</td>\n",
       "      <td>48.000000</td>\n",
       "      <td>3.000000</td>\n",
       "      <td>14.000000</td>\n",
       "      <td>0.970000</td>\n",
       "      <td>2.405000</td>\n",
       "    </tr>\n",
       "    <tr>\n",
       "      <th>50%</th>\n",
       "      <td>41.500000</td>\n",
       "      <td>78.000000</td>\n",
       "      <td>17.000000</td>\n",
       "      <td>1.000000</td>\n",
       "      <td>11.000000</td>\n",
       "      <td>40.000000</td>\n",
       "      <td>25.000000</td>\n",
       "      <td>71.500000</td>\n",
       "      <td>2.000000</td>\n",
       "      <td>1.000000</td>\n",
       "      <td>...</td>\n",
       "      <td>77.500000</td>\n",
       "      <td>1379.000000</td>\n",
       "      <td>354.000000</td>\n",
       "      <td>296.500000</td>\n",
       "      <td>131.500000</td>\n",
       "      <td>111.500000</td>\n",
       "      <td>5.500000</td>\n",
       "      <td>29.000000</td>\n",
       "      <td>0.980000</td>\n",
       "      <td>3.150000</td>\n",
       "    </tr>\n",
       "    <tr>\n",
       "      <th>75%</th>\n",
       "      <td>69.250000</td>\n",
       "      <td>129.000000</td>\n",
       "      <td>25.000000</td>\n",
       "      <td>2.000000</td>\n",
       "      <td>20.000000</td>\n",
       "      <td>67.500000</td>\n",
       "      <td>44.250000</td>\n",
       "      <td>109.500000</td>\n",
       "      <td>5.000000</td>\n",
       "      <td>2.000000</td>\n",
       "      <td>...</td>\n",
       "      <td>127.250000</td>\n",
       "      <td>2091.750000</td>\n",
       "      <td>546.250000</td>\n",
       "      <td>494.000000</td>\n",
       "      <td>208.750000</td>\n",
       "      <td>231.250000</td>\n",
       "      <td>10.000000</td>\n",
       "      <td>60.250000</td>\n",
       "      <td>0.990000</td>\n",
       "      <td>3.972500</td>\n",
       "    </tr>\n",
       "    <tr>\n",
       "      <th>max</th>\n",
       "      <td>129.000000</td>\n",
       "      <td>206.000000</td>\n",
       "      <td>54.000000</td>\n",
       "      <td>10.000000</td>\n",
       "      <td>53.000000</td>\n",
       "      <td>126.000000</td>\n",
       "      <td>119.000000</td>\n",
       "      <td>189.000000</td>\n",
       "      <td>43.000000</td>\n",
       "      <td>10.000000</td>\n",
       "      <td>...</td>\n",
       "      <td>221.000000</td>\n",
       "      <td>3223.000000</td>\n",
       "      <td>747.000000</td>\n",
       "      <td>1372.000000</td>\n",
       "      <td>1296.000000</td>\n",
       "      <td>436.000000</td>\n",
       "      <td>26.000000</td>\n",
       "      <td>145.000000</td>\n",
       "      <td>1.000000</td>\n",
       "      <td>8.800000</td>\n",
       "    </tr>\n",
       "  </tbody>\n",
       "</table>\n",
       "<p>8 rows × 32 columns</p>\n",
       "</div>"
      ],
      "text/plain": [
       "                R           H          2B          3B          HR         RBI  \\\n",
       "count  244.000000  244.000000  244.000000  244.000000  244.000000  244.000000   \n",
       "mean    46.688525   85.262295   17.413934    1.569672   13.422131   45.446721   \n",
       "std     31.251688   53.335309   11.646931    1.977045   11.319076   31.514208   \n",
       "min      3.000000    7.000000    0.000000    0.000000    0.000000    3.000000   \n",
       "25%     19.750000   36.000000    7.000000    0.000000    4.000000   17.750000   \n",
       "50%     41.500000   78.000000   17.000000    1.000000   11.000000   40.000000   \n",
       "75%     69.250000  129.000000   25.000000    2.000000   20.000000   67.500000   \n",
       "max    129.000000  206.000000   54.000000   10.000000   53.000000  126.000000   \n",
       "\n",
       "               BB          SO          SB          CS  ...          AO  \\\n",
       "count  244.000000  244.000000  244.000000  244.000000  ...  244.000000   \n",
       "mean    31.573770   77.545082    4.151639    1.606557  ...   85.655738   \n",
       "std     23.825987   43.462699    6.459557    2.125903  ...   53.572960   \n",
       "min      1.000000   11.000000    0.000000    0.000000  ...    6.000000   \n",
       "25%     13.000000   40.000000    0.000000    0.000000  ...   36.750000   \n",
       "50%     25.000000   71.500000    2.000000    1.000000  ...   77.500000   \n",
       "75%     44.250000  109.500000    5.000000    2.000000  ...  127.250000   \n",
       "max    119.000000  189.000000   43.000000   10.000000  ...  221.000000   \n",
       "\n",
       "                NP          PA           TC           PO           A  \\\n",
       "count   244.000000  244.000000   244.000000   244.000000  244.000000   \n",
       "mean   1438.040984  366.270492   364.938525   215.594262  142.590164   \n",
       "std     805.259173  204.318119   280.713260   261.610105  115.275177   \n",
       "min     218.000000   56.000000    21.000000     8.000000    1.000000   \n",
       "25%     706.250000  173.000000   155.500000    65.500000   48.000000   \n",
       "50%    1379.000000  354.000000   296.500000   131.500000  111.500000   \n",
       "75%    2091.750000  546.250000   494.000000   208.750000  231.250000   \n",
       "max    3223.000000  747.000000  1372.000000  1296.000000  436.000000   \n",
       "\n",
       "                E          DP        FPCT          RF  \n",
       "count  244.000000  244.000000  244.000000  244.000000  \n",
       "mean     6.754098   38.983607    0.977738    3.580615  \n",
       "std      5.141314   30.966325    0.015712    1.678170  \n",
       "min      0.000000    1.000000    0.929000    1.220000  \n",
       "25%      3.000000   14.000000    0.970000    2.405000  \n",
       "50%      5.500000   29.000000    0.980000    3.150000  \n",
       "75%     10.000000   60.250000    0.990000    3.972500  \n",
       "max     26.000000  145.000000    1.000000    8.800000  \n",
       "\n",
       "[8 rows x 32 columns]"
      ]
     },
     "execution_count": 10,
     "metadata": {},
     "output_type": "execute_result"
    }
   ],
   "source": [
    "df_total_infld.describe()"
   ]
  },
  {
   "cell_type": "code",
   "execution_count": 11,
   "metadata": {},
   "outputs": [
    {
     "data": {
      "text/plain": [
       "<matplotlib.axes._subplots.AxesSubplot at 0x165d6136908>"
      ]
     },
     "execution_count": 11,
     "metadata": {},
     "output_type": "execute_result"
    },
    {
     "data": {
      "image/png": "[encoded data removed]",
      "text/plain": [
       "<Figure size 576x288 with 1 Axes>"
      ]
     },
     "metadata": {
      "needs_background": "light"
     },
     "output_type": "display_data"
    }
   ],
   "source": [
    "import seaborn as sns\n",
    "plt.figure(figsize=(8,4))\n",
    "# plt.xticks(range(0,60,5), rotation=60)\n",
    "sns.distplot(df_total_infld['RBI'])"
   ]
  },
  {
   "cell_type": "markdown",
   "metadata": {},
   "source": [
    "### 피쳐간에 상관도 분석"
   ]
  },
  {
   "cell_type": "code",
   "execution_count": 12,
   "metadata": {},
   "outputs": [
    {
     "data": {
      "text/plain": [
       "<matplotlib.axes._subplots.AxesSubplot at 0x165d7383c88>"
      ]
     },
     "execution_count": 12,
     "metadata": {},
     "output_type": "execute_result"
    },
    {
     "data": {
      "image/png": "[encoded data removed]",
      "text/plain": [
       "<Figure size 648x648 with 2 Axes>"
      ]
     },
     "metadata": {
      "needs_background": "light"
     },
     "output_type": "display_data"
    }
   ],
   "source": [
    "# 이상치 찾아내는 방법\n",
    "# DataFrame의 corr()를 이용해 피처별로 상관도 구하고 heatmap 시각화\n",
    "import seaborn as sns\n",
    "\n",
    "plt.figure(figsize=(9,9))\n",
    "corr = df_total_infld.corr()\n",
    "sns.heatmap(corr, cmap=\"RdBu\")"
   ]
  },
  {
   "cell_type": "markdown",
   "metadata": {},
   "source": [
    "- cmap-\"RdBu\" \n",
    "- 양의 상관관계가 높을 수록 - 진한 파란색\n",
    "- 음의 상관관계가 높을 수록 - 진한 빨간색"
   ]
  },
  {
   "cell_type": "markdown",
   "metadata": {},
   "source": [
    "# 데이터 레이블 및 데이터 세트 분리"
   ]
  },
  {
   "cell_type": "code",
   "execution_count": 13,
   "metadata": {},
   "outputs": [
    {
     "name": "stdout",
     "output_type": "stream",
     "text": [
      "    Pos    R    H  2B  3B  HR  RBI  BB   SO  SB  ...   AO    NP   PA   TC  \\\n",
      "22    2   61  115  23   1  17   62  27   49   2  ...   82  1397  370  401   \n",
      "23    3   81  167  32   0  18   56  15  109  17  ...   93  1765  518  532   \n",
      "24    1   54  109  20   1   4   28  36   29   2  ...  105  1486  366  227   \n",
      "37    3   27   71  13   1   4   23  10   49   0  ...   54   903  228  199   \n",
      "40    1  109  197  33   2  26  102  46   90   5  ...  136  2463  655  620   \n",
      "\n",
      "     PO    A   E  DP   FPCT    RF  \n",
      "22  308   91   2  35  0.995  4.29  \n",
      "23  182  324  26  75  0.951  4.11  \n",
      "24  101  121   5  31  0.978  2.22  \n",
      "37   84  113   2  27  0.990  3.46  \n",
      "40  351  261   8  63  0.987  3.64  \n",
      "\n",
      "[5 rows x 33 columns]\n"
     ]
    }
   ],
   "source": [
    "# label 데이터 레이블 인코딩\n",
    "# from sklearn.preprocessing import OneHotEncoder\n",
    "# from sklearn.preprocessing import LabelEncoder\n",
    "\n",
    "encoder = LabelEncoder()\n",
    "encoder.fit(df_total_infld['Pos'])\n",
    "df_total_infld['Pos'] = encoder.transform(df_total_infld['Pos'])\n",
    "#labels = labels.reshape(-1, 1)\n",
    "print(df_total_infld[:5])"
   ]
  },
  {
   "cell_type": "code",
   "execution_count": 32,
   "metadata": {},
   "outputs": [],
   "source": [
    "# 데이터 세트 분리 (피처 데이터 and 라벨 데이터)\n",
    "\n",
    "y_infield_df = df_total_infld['Pos']\n",
    "x_infield_df = df_total_infld.drop('Pos', axis=1)"
   ]
  },
  {
   "cell_type": "code",
   "execution_count": 86,
   "metadata": {},
   "outputs": [],
   "source": [
    "# train_test_split()를 통해 train과 test 데이터 분리\n",
    "# from sklearn.model_selection import train_test_split\n",
    "\n",
    "x_train, x_test, y_train, y_test = train_test_split(x_infield_df, y_infield_df, test_size=0.2, random_state=11)"
   ]
  },
  {
   "cell_type": "code",
   "execution_count": 87,
   "metadata": {},
   "outputs": [
    {
     "name": "stdout",
     "output_type": "stream",
     "text": [
      "(244, 32)\n",
      "(244,)\n",
      "(195, 32)\n",
      "(195,)\n",
      "(49, 32)\n",
      "(49,)\n"
     ]
    }
   ],
   "source": [
    "print(x_infield_df.shape)\n",
    "print(y_infield_df.shape)\n",
    "print(x_train.shape)\n",
    "print(y_train.shape)\n",
    "print(x_test.shape)\n",
    "print(y_test.shape)"
   ]
  },
  {
   "cell_type": "markdown",
   "metadata": {},
   "source": [
    "# 학습하기\n",
    "- Machine Learning 모델 생성"
   ]
  },
  {
   "cell_type": "code",
   "execution_count": 88,
   "metadata": {},
   "outputs": [],
   "source": [
    "# 개별 ML 모델 생성\n",
    "knn_clf = KNeighborsClassifier(n_neighbors=4)\n",
    "rf_clf = RandomForestClassifier(n_estimators=100, random_state=0)\n",
    "dt_clf = DecisionTreeClassifier()\n",
    "ada_clf = AdaBoostClassifier(n_estimators=100)\n",
    "gb_clf = GradientBoostingClassifier(random_state=0)\n",
    "xgb_clf = XGBClassifier(n_estimators=100, learning_rate=0.03, max_depth=3)\n",
    "lgbm_clf = LGBMClassifier(n_estimators=100)\n",
    "\n",
    "# 스태킹으로 만들어진 데이터 세트 예측\n",
    "lr_final = LogisticRegression(C=10)"
   ]
  },
  {
   "cell_type": "code",
   "execution_count": 89,
   "metadata": {},
   "outputs": [
    {
     "data": {
      "text/plain": [
       "LGBMClassifier(boosting_type='gbdt', class_weight=None, colsample_bytree=1.0,\n",
       "               importance_type='split', learning_rate=0.1, max_depth=-1,\n",
       "               min_child_samples=20, min_child_weight=0.001, min_split_gain=0.0,\n",
       "               n_estimators=100, n_jobs=-1, num_leaves=31, objective=None,\n",
       "               random_state=None, reg_alpha=0.0, reg_lambda=0.0, silent=True,\n",
       "               subsample=1.0, subsample_for_bin=200000, subsample_freq=0)"
      ]
     },
     "execution_count": 89,
     "metadata": {},
     "output_type": "execute_result"
    }
   ],
   "source": [
    "# 개별 ML 모델 학습 : fit\n",
    "knn_clf.fit(x_train, y_train)\n",
    "rf_clf.fit(x_train, y_train)\n",
    "dt_clf.fit(x_train, y_train)\n",
    "ada_clf.fit(x_train, y_train)\n",
    "gb_clf.fit(x_train, y_train)\n",
    "xgb_clf.fit(x_train, y_train)\n",
    "lgbm_clf.fit(x_train, y_train)"
   ]
  },
  {
   "cell_type": "code",
   "execution_count": 90,
   "metadata": {},
   "outputs": [],
   "source": [
    "# 학습된 개별 모델들 예측 데이터 생성 후 test 데이터로 정확도 측정\n",
    "knn_pred = knn_clf.predict(x_test)\n",
    "rf_pred = rf_clf.predict(x_test)\n",
    "dt_pred = dt_clf.predict(x_test)\n",
    "ada_pred = ada_clf.predict(x_test)\n",
    "gb_pred = gb_clf.predict(x_test)\n",
    "xgb_pred = xgb_clf.predict(x_test)\n",
    "lgbm_pred = lgbm_clf.predict(x_test)"
   ]
  },
  {
   "cell_type": "code",
   "execution_count": 91,
   "metadata": {},
   "outputs": [
    {
     "name": "stdout",
     "output_type": "stream",
     "text": [
      "KNN 정확도: 0.6122\n",
      "RF 정확도: 0.6735\n",
      "DT 정확도: 0.6735\n",
      "ADA 정확도: 0.5102\n",
      "GB 정확도: 0.6735\n",
      "XGB 정확도: 0.7755\n",
      "LGBM 정확도: 0.6735\n"
     ]
    }
   ],
   "source": [
    "print('KNN 정확도: {0:.4f}'.format(accuracy_score(y_test, knn_pred)))\n",
    "print('RF 정확도: {0:.4f}'.format(accuracy_score(y_test, rf_pred)))\n",
    "print('DT 정확도: {0:.4f}'.format(accuracy_score(y_test, dt_pred)))\n",
    "print('ADA 정확도: {0:.4f}'.format(accuracy_score(y_test, ada_pred)))\n",
    "print('GB 정확도: {0:.4f}'.format(accuracy_score(y_test, gb_pred)))\n",
    "print('XGB 정확도: {0:.4f}'.format(accuracy_score(y_test, xgb_pred)))\n",
    "print('LGBM 정확도: {0:.4f}'.format(accuracy_score(y_test, lgbm_pred)))"
   ]
  },
  {
   "cell_type": "code",
   "execution_count": 92,
   "metadata": {},
   "outputs": [
    {
     "name": "stdout",
     "output_type": "stream",
     "text": [
      "(7, 49)\n",
      "(49, 7)\n",
      "최종 모델의 예측 정확도: 0.7143\n"
     ]
    },
    {
     "name": "stderr",
     "output_type": "stream",
     "text": [
      "C:\\Anaconda3\\envs\\nlp\\lib\\site-packages\\sklearn\\linear_model\\_logistic.py:940: ConvergenceWarning: lbfgs failed to converge (status=1):\n",
      "STOP: TOTAL NO. of ITERATIONS REACHED LIMIT.\n",
      "\n",
      "Increase the number of iterations (max_iter) or scale the data as shown in:\n",
      "    https://scikit-learn.org/stable/modules/preprocessing.html\n",
      "Please also refer to the documentation for alternative solver options:\n",
      "    https://scikit-learn.org/stable/modules/linear_model.html#logistic-regression\n",
      "  extra_warning_msg=_LOGISTIC_SOLVER_CONVERGENCE_MSG)\n"
     ]
    }
   ],
   "source": [
    "pred = np.array([knn_pred, rf_pred, dt_pred, ada_pred, gb_pred, xgb_pred, lgbm_pred])\n",
    "print(pred.shape)\n",
    "\n",
    "pred = np.transpose(pred)\n",
    "print(pred.shape)\n",
    "\n",
    "lr_final.fit(pred, y_test)\n",
    "final = lr_final.predict(pred)\n",
    "\n",
    "print('최종 모델의 예측 정확도: {0:.4f}'.format(accuracy_score(y_test, final)))"
   ]
  },
  {
   "cell_type": "markdown",
   "metadata": {},
   "source": [
    "# MinMaxScaler 정규화"
   ]
  },
  {
   "cell_type": "code",
   "execution_count": 93,
   "metadata": {},
   "outputs": [
    {
     "name": "stdout",
     "output_type": "stream",
     "text": [
      "(49, 32) (195, 32)\n"
     ]
    }
   ],
   "source": [
    "scaler = MinMaxScaler()\n",
    "scaler.fit(x_test)\n",
    "scaler.fit(x_train)\n",
    "x_test = scaler.transform(x_test)\n",
    "x_train = scaler.transform(x_train)\n",
    "print(x_test.shape, x_train.shape)"
   ]
  },
  {
   "cell_type": "code",
   "execution_count": 94,
   "metadata": {},
   "outputs": [
    {
     "data": {
      "text/plain": [
       "LGBMClassifier(boosting_type='gbdt', class_weight=None, colsample_bytree=1.0,\n",
       "               importance_type='split', learning_rate=0.1, max_depth=-1,\n",
       "               min_child_samples=20, min_child_weight=0.001, min_split_gain=0.0,\n",
       "               n_estimators=100, n_jobs=-1, num_leaves=31, objective=None,\n",
       "               random_state=None, reg_alpha=0.0, reg_lambda=0.0, silent=True,\n",
       "               subsample=1.0, subsample_for_bin=200000, subsample_freq=0)"
      ]
     },
     "execution_count": 94,
     "metadata": {},
     "output_type": "execute_result"
    }
   ],
   "source": [
    "# 개별 ML 모델 학습 : fit\n",
    "knn_clf.fit(x_train, y_train)\n",
    "rf_clf.fit(x_train, y_train)\n",
    "dt_clf.fit(x_train, y_train)\n",
    "ada_clf.fit(x_train, y_train)\n",
    "gb_clf.fit(x_train, y_train)\n",
    "xgb_clf.fit(x_train, y_train)\n",
    "lgbm_clf.fit(x_train, y_train)"
   ]
  },
  {
   "cell_type": "code",
   "execution_count": 95,
   "metadata": {},
   "outputs": [],
   "source": [
    "# 학습된 개별 모델들 예측 데이터 생성 후 test 데이터로 정확도 측정\n",
    "knn_pred = knn_clf.predict(x_test)\n",
    "rf_pred = rf_clf.predict(x_test)\n",
    "dt_pred = dt_clf.predict(x_test)\n",
    "ada_pred = ada_clf.predict(x_test)\n",
    "gb_pred = gb_clf.predict(x_test)\n",
    "xgb_pred = xgb_clf.predict(x_test)\n",
    "lgbm_pred = lgbm_clf.predict(x_test)"
   ]
  },
  {
   "cell_type": "code",
   "execution_count": 96,
   "metadata": {},
   "outputs": [
    {
     "name": "stdout",
     "output_type": "stream",
     "text": [
      "KNN 정확도: 0.5510\n",
      "RF 정확도: 0.6735\n",
      "DT 정확도: 0.5918\n",
      "ADA 정확도: 0.5102\n",
      "GB 정확도: 0.6531\n",
      "XGB 정확도: 0.7755\n",
      "LGBM 정확도: 0.6939\n"
     ]
    }
   ],
   "source": [
    "print('KNN 정확도: {0:.4f}'.format(accuracy_score(y_test, knn_pred)))\n",
    "print('RF 정확도: {0:.4f}'.format(accuracy_score(y_test, rf_pred)))\n",
    "print('DT 정확도: {0:.4f}'.format(accuracy_score(y_test, dt_pred)))\n",
    "print('ADA 정확도: {0:.4f}'.format(accuracy_score(y_test, ada_pred)))\n",
    "print('GB 정확도: {0:.4f}'.format(accuracy_score(y_test, gb_pred)))\n",
    "print('XGB 정확도: {0:.4f}'.format(accuracy_score(y_test, xgb_pred)))\n",
    "print('LGBM 정확도: {0:.4f}'.format(accuracy_score(y_test, lgbm_pred)))"
   ]
  },
  {
   "cell_type": "code",
   "execution_count": 97,
   "metadata": {},
   "outputs": [
    {
     "name": "stdout",
     "output_type": "stream",
     "text": [
      "(7, 49)\n",
      "(49, 7)\n",
      "최종 모델의 예측 정확도: 0.7347\n"
     ]
    },
    {
     "name": "stderr",
     "output_type": "stream",
     "text": [
      "C:\\Anaconda3\\envs\\nlp\\lib\\site-packages\\sklearn\\linear_model\\_logistic.py:940: ConvergenceWarning: lbfgs failed to converge (status=1):\n",
      "STOP: TOTAL NO. of ITERATIONS REACHED LIMIT.\n",
      "\n",
      "Increase the number of iterations (max_iter) or scale the data as shown in:\n",
      "    https://scikit-learn.org/stable/modules/preprocessing.html\n",
      "Please also refer to the documentation for alternative solver options:\n",
      "    https://scikit-learn.org/stable/modules/linear_model.html#logistic-regression\n",
      "  extra_warning_msg=_LOGISTIC_SOLVER_CONVERGENCE_MSG)\n"
     ]
    }
   ],
   "source": [
    "pred = np.array([knn_pred, rf_pred, dt_pred, ada_pred, gb_pred, xgb_pred, lgbm_pred])\n",
    "print(pred.shape)\n",
    "\n",
    "pred = np.transpose(pred)\n",
    "print(pred.shape)\n",
    "\n",
    "lr_final.fit(pred, y_test)\n",
    "final = lr_final.predict(pred)\n",
    "\n",
    "print('최종 모델의 예측 정확도: {0:.4f}'.format(accuracy_score(y_test, final)))"
   ]
  },
  {
   "cell_type": "markdown",
   "metadata": {},
   "source": [
    "# 정규화 : 정확도가 상당히 좋지 않아 \"정규화'를 해보자"
   ]
  },
  {
   "cell_type": "code",
   "execution_count": 98,
   "metadata": {},
   "outputs": [],
   "source": [
    "x_train, x_test, y_train, y_test = train_test_split(x_infield_df, y_infield_df, test_size=0.2, random_state=11)"
   ]
  },
  {
   "cell_type": "code",
   "execution_count": 99,
   "metadata": {},
   "outputs": [],
   "source": [
    "mean = x_train.mean(axis=0)\n",
    "x_train -= mean\n",
    "std = x_train.std(axis=0)\n",
    "x_train /= std\n",
    "\n",
    "mean = x_test.mean(axis=0)\n",
    "x_test -= mean\n",
    "std = x_test.std(axis=0)\n",
    "x_test /= std"
   ]
  },
  {
   "cell_type": "code",
   "execution_count": 100,
   "metadata": {},
   "outputs": [
    {
     "data": {
      "text/plain": [
       "LGBMClassifier(boosting_type='gbdt', class_weight=None, colsample_bytree=1.0,\n",
       "               importance_type='split', learning_rate=0.1, max_depth=-1,\n",
       "               min_child_samples=20, min_child_weight=0.001, min_split_gain=0.0,\n",
       "               n_estimators=100, n_jobs=-1, num_leaves=31, objective=None,\n",
       "               random_state=None, reg_alpha=0.0, reg_lambda=0.0, silent=True,\n",
       "               subsample=1.0, subsample_for_bin=200000, subsample_freq=0)"
      ]
     },
     "execution_count": 100,
     "metadata": {},
     "output_type": "execute_result"
    }
   ],
   "source": [
    "# 개별 ML 모델 학습 : fit\n",
    "knn_clf.fit(x_train, y_train)\n",
    "rf_clf.fit(x_train, y_train)\n",
    "dt_clf.fit(x_train, y_train)\n",
    "ada_clf.fit(x_train, y_train)\n",
    "gb_clf.fit(x_train, y_train)\n",
    "xgb_clf.fit(x_train, y_train)\n",
    "lgbm_clf.fit(x_train, y_train)"
   ]
  },
  {
   "cell_type": "code",
   "execution_count": 101,
   "metadata": {},
   "outputs": [],
   "source": [
    "# 학습된 개별 모델들 예측 데이터 생성 후 test 데이터로 정확도 측정\n",
    "knn_pred = knn_clf.predict(x_test)\n",
    "rf_pred = rf_clf.predict(x_test)\n",
    "dt_pred = dt_clf.predict(x_test)\n",
    "ada_pred = ada_clf.predict(x_test)\n",
    "gb_pred = gb_clf.predict(x_test)\n",
    "xgb_pred = xgb_clf.predict(x_test)\n",
    "lgbm_pred = lgbm_clf.predict(x_test)"
   ]
  },
  {
   "cell_type": "code",
   "execution_count": 102,
   "metadata": {},
   "outputs": [
    {
     "name": "stdout",
     "output_type": "stream",
     "text": [
      "KNN 정확도: 0.5102\n",
      "RF 정확도: 0.6122\n",
      "DT 정확도: 0.4898\n",
      "ADA 정확도: 0.4286\n",
      "GB 정확도: 0.5918\n",
      "XGB 정확도: 0.6327\n",
      "LGBM 정확도: 0.5918\n"
     ]
    }
   ],
   "source": [
    "print('KNN 정확도: {0:.4f}'.format(accuracy_score(y_test, knn_pred)))\n",
    "print('RF 정확도: {0:.4f}'.format(accuracy_score(y_test, rf_pred)))\n",
    "print('DT 정확도: {0:.4f}'.format(accuracy_score(y_test, dt_pred)))\n",
    "print('ADA 정확도: {0:.4f}'.format(accuracy_score(y_test, ada_pred)))\n",
    "print('GB 정확도: {0:.4f}'.format(accuracy_score(y_test, gb_pred)))\n",
    "print('XGB 정확도: {0:.4f}'.format(accuracy_score(y_test, xgb_pred)))\n",
    "print('LGBM 정확도: {0:.4f}'.format(accuracy_score(y_test, lgbm_pred)))"
   ]
  },
  {
   "cell_type": "markdown",
   "metadata": {},
   "source": []
  },
  {
   "cell_type": "code",
   "execution_count": 103,
   "metadata": {},
   "outputs": [
    {
     "name": "stdout",
     "output_type": "stream",
     "text": [
      "(7, 49)\n",
      "(49, 7)\n"
     ]
    }
   ],
   "source": [
    "pred = np.array([knn_pred, rf_pred, dt_pred, ada_pred, gb_pred, xgb_pred, lgbm_pred])\n",
    "print(pred.shape)\n",
    "\n",
    "pred = np.transpose(pred)\n",
    "print(pred.shape)"
   ]
  },
  {
   "cell_type": "code",
   "execution_count": 104,
   "metadata": {},
   "outputs": [
    {
     "name": "stdout",
     "output_type": "stream",
     "text": [
      "최종 모델의 예측 정확도: 0.7755\n"
     ]
    },
    {
     "name": "stderr",
     "output_type": "stream",
     "text": [
      "C:\\Anaconda3\\envs\\nlp\\lib\\site-packages\\sklearn\\linear_model\\_logistic.py:940: ConvergenceWarning: lbfgs failed to converge (status=1):\n",
      "STOP: TOTAL NO. of ITERATIONS REACHED LIMIT.\n",
      "\n",
      "Increase the number of iterations (max_iter) or scale the data as shown in:\n",
      "    https://scikit-learn.org/stable/modules/preprocessing.html\n",
      "Please also refer to the documentation for alternative solver options:\n",
      "    https://scikit-learn.org/stable/modules/linear_model.html#logistic-regression\n",
      "  extra_warning_msg=_LOGISTIC_SOLVER_CONVERGENCE_MSG)\n"
     ]
    }
   ],
   "source": [
    "lr_final.fit(pred, y_test)\n",
    "final = lr_final.predict(pred)\n",
    "\n",
    "print('최종 모델의 예측 정확도: {0:.4f}'.format(accuracy_score(y_test, final)))"
   ]
  },
  {
   "cell_type": "code",
   "execution_count": null,
   "metadata": {},
   "outputs": [],
   "source": []
  }
 ],
 "metadata": {
  "kernelspec": {
   "display_name": "Python 3",
   "language": "python",
   "name": "python3"
  },
  "language_info": {
   "codemirror_mode": {
    "name": "ipython",
    "version": 3
   },
   "file_extension": ".py",
   "mimetype": "text/x-python",
   "name": "python",
   "nbconvert_exporter": "python",
   "pygments_lexer": "ipython3",
   "version": "3.6.10"
  }
 },
 "nbformat": 4,
 "nbformat_minor": 2
}
