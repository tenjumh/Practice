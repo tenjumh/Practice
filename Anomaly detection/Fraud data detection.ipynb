{
 "cells": [
  {
   "cell_type": "markdown",
   "metadata": {},
   "source": [
    "## 신용카드 사용정보로 해당 Transaction 의 이상(Fraud)여부를 예측"
   ]
  },
  {
   "cell_type": "code",
   "execution_count": 79,
   "metadata": {},
   "outputs": [],
   "source": [
    "import pandas as pd\n",
    "from sklearn.metrics import accuracy_score, recall_score, precision_score, f1_score"
   ]
  },
  {
   "cell_type": "code",
   "execution_count": 80,
   "metadata": {},
   "outputs": [],
   "source": [
    "data = pd.read_csv(\"15.csv\")"
   ]
  },
  {
   "cell_type": "code",
   "execution_count": 81,
   "metadata": {},
   "outputs": [
    {
     "data": {
      "text/html": [
       "<div>\n",
       "<style scoped>\n",
       "    .dataframe tbody tr th:only-of-type {\n",
       "        vertical-align: middle;\n",
       "    }\n",
       "\n",
       "    .dataframe tbody tr th {\n",
       "        vertical-align: top;\n",
       "    }\n",
       "\n",
       "    .dataframe thead th {\n",
       "        text-align: right;\n",
       "    }\n",
       "</style>\n",
       "<table border=\"1\" class=\"dataframe\">\n",
       "  <thead>\n",
       "    <tr style=\"text-align: right;\">\n",
       "      <th></th>\n",
       "      <th>Time</th>\n",
       "      <th>V1</th>\n",
       "      <th>V2</th>\n",
       "      <th>V3</th>\n",
       "      <th>V4</th>\n",
       "      <th>V5</th>\n",
       "      <th>V6</th>\n",
       "      <th>V7</th>\n",
       "      <th>V8</th>\n",
       "      <th>V9</th>\n",
       "      <th>...</th>\n",
       "      <th>V21</th>\n",
       "      <th>V22</th>\n",
       "      <th>V23</th>\n",
       "      <th>V24</th>\n",
       "      <th>V25</th>\n",
       "      <th>V26</th>\n",
       "      <th>V27</th>\n",
       "      <th>V28</th>\n",
       "      <th>Amount</th>\n",
       "      <th>Class</th>\n",
       "    </tr>\n",
       "  </thead>\n",
       "  <tbody>\n",
       "    <tr>\n",
       "      <td>count</td>\n",
       "      <td>284806.000000</td>\n",
       "      <td>284806.000000</td>\n",
       "      <td>2.848060e+05</td>\n",
       "      <td>284806.000000</td>\n",
       "      <td>284806.000000</td>\n",
       "      <td>2.848060e+05</td>\n",
       "      <td>284806.000000</td>\n",
       "      <td>284806.000000</td>\n",
       "      <td>284806.000000</td>\n",
       "      <td>284806.000000</td>\n",
       "      <td>...</td>\n",
       "      <td>2.848060e+05</td>\n",
       "      <td>284806.000000</td>\n",
       "      <td>284806.000000</td>\n",
       "      <td>2.848060e+05</td>\n",
       "      <td>284806.000000</td>\n",
       "      <td>284806.000000</td>\n",
       "      <td>2.848060e+05</td>\n",
       "      <td>2.848060e+05</td>\n",
       "      <td>284806.000000</td>\n",
       "      <td>992.000000</td>\n",
       "    </tr>\n",
       "    <tr>\n",
       "      <td>mean</td>\n",
       "      <td>94813.585781</td>\n",
       "      <td>0.000002</td>\n",
       "      <td>6.661837e-07</td>\n",
       "      <td>-0.000002</td>\n",
       "      <td>0.000002</td>\n",
       "      <td>4.405008e-08</td>\n",
       "      <td>0.000002</td>\n",
       "      <td>-0.000006</td>\n",
       "      <td>0.000001</td>\n",
       "      <td>-0.000002</td>\n",
       "      <td>...</td>\n",
       "      <td>-9.166149e-07</td>\n",
       "      <td>-0.000002</td>\n",
       "      <td>-0.000001</td>\n",
       "      <td>-3.088756e-08</td>\n",
       "      <td>0.000002</td>\n",
       "      <td>0.000003</td>\n",
       "      <td>8.483873e-09</td>\n",
       "      <td>-4.792707e-08</td>\n",
       "      <td>88.349168</td>\n",
       "      <td>0.495968</td>\n",
       "    </tr>\n",
       "    <tr>\n",
       "      <td>std</td>\n",
       "      <td>47488.004530</td>\n",
       "      <td>1.958699</td>\n",
       "      <td>1.651311e+00</td>\n",
       "      <td>1.516257</td>\n",
       "      <td>1.415871</td>\n",
       "      <td>1.380249e+00</td>\n",
       "      <td>1.332273</td>\n",
       "      <td>1.237092</td>\n",
       "      <td>1.194355</td>\n",
       "      <td>1.098634</td>\n",
       "      <td>...</td>\n",
       "      <td>7.345251e-01</td>\n",
       "      <td>0.725702</td>\n",
       "      <td>0.624461</td>\n",
       "      <td>6.056481e-01</td>\n",
       "      <td>0.521278</td>\n",
       "      <td>0.482225</td>\n",
       "      <td>4.036332e-01</td>\n",
       "      <td>3.300838e-01</td>\n",
       "      <td>250.120432</td>\n",
       "      <td>0.500236</td>\n",
       "    </tr>\n",
       "    <tr>\n",
       "      <td>min</td>\n",
       "      <td>0.000000</td>\n",
       "      <td>-56.407510</td>\n",
       "      <td>-7.271573e+01</td>\n",
       "      <td>-48.325589</td>\n",
       "      <td>-5.683171</td>\n",
       "      <td>-1.137433e+02</td>\n",
       "      <td>-26.160506</td>\n",
       "      <td>-43.557242</td>\n",
       "      <td>-73.216718</td>\n",
       "      <td>-13.434066</td>\n",
       "      <td>...</td>\n",
       "      <td>-3.483038e+01</td>\n",
       "      <td>-10.933144</td>\n",
       "      <td>-44.807735</td>\n",
       "      <td>-2.836627e+00</td>\n",
       "      <td>-10.295397</td>\n",
       "      <td>-2.604551</td>\n",
       "      <td>-2.256568e+01</td>\n",
       "      <td>-1.543008e+01</td>\n",
       "      <td>0.000000</td>\n",
       "      <td>0.000000</td>\n",
       "    </tr>\n",
       "    <tr>\n",
       "      <td>25%</td>\n",
       "      <td>54201.250000</td>\n",
       "      <td>-0.920374</td>\n",
       "      <td>-5.985522e-01</td>\n",
       "      <td>-0.890368</td>\n",
       "      <td>-0.848642</td>\n",
       "      <td>-6.915995e-01</td>\n",
       "      <td>-0.768296</td>\n",
       "      <td>-0.554080</td>\n",
       "      <td>-0.208628</td>\n",
       "      <td>-0.643098</td>\n",
       "      <td>...</td>\n",
       "      <td>-2.283974e-01</td>\n",
       "      <td>-0.542351</td>\n",
       "      <td>-0.161846</td>\n",
       "      <td>-3.545895e-01</td>\n",
       "      <td>-0.317142</td>\n",
       "      <td>-0.326979</td>\n",
       "      <td>-7.083961e-02</td>\n",
       "      <td>-5.295995e-02</td>\n",
       "      <td>5.600000</td>\n",
       "      <td>0.000000</td>\n",
       "    </tr>\n",
       "    <tr>\n",
       "      <td>50%</td>\n",
       "      <td>84691.500000</td>\n",
       "      <td>0.018109</td>\n",
       "      <td>6.549621e-02</td>\n",
       "      <td>0.179846</td>\n",
       "      <td>-0.019845</td>\n",
       "      <td>-5.433621e-02</td>\n",
       "      <td>-0.274186</td>\n",
       "      <td>0.040097</td>\n",
       "      <td>0.022358</td>\n",
       "      <td>-0.051429</td>\n",
       "      <td>...</td>\n",
       "      <td>-2.945020e-02</td>\n",
       "      <td>0.006781</td>\n",
       "      <td>-0.011196</td>\n",
       "      <td>4.097671e-02</td>\n",
       "      <td>0.016596</td>\n",
       "      <td>-0.052134</td>\n",
       "      <td>1.342244e-03</td>\n",
       "      <td>1.124381e-02</td>\n",
       "      <td>22.000000</td>\n",
       "      <td>0.000000</td>\n",
       "    </tr>\n",
       "    <tr>\n",
       "      <td>75%</td>\n",
       "      <td>139320.000000</td>\n",
       "      <td>1.315645</td>\n",
       "      <td>8.037257e-01</td>\n",
       "      <td>1.027198</td>\n",
       "      <td>0.743348</td>\n",
       "      <td>6.119267e-01</td>\n",
       "      <td>0.398567</td>\n",
       "      <td>0.570426</td>\n",
       "      <td>0.327346</td>\n",
       "      <td>0.597140</td>\n",
       "      <td>...</td>\n",
       "      <td>1.863701e-01</td>\n",
       "      <td>0.528548</td>\n",
       "      <td>0.147641</td>\n",
       "      <td>4.395270e-01</td>\n",
       "      <td>0.350716</td>\n",
       "      <td>0.240955</td>\n",
       "      <td>9.104579e-02</td>\n",
       "      <td>7.828043e-02</td>\n",
       "      <td>77.160000</td>\n",
       "      <td>1.000000</td>\n",
       "    </tr>\n",
       "    <tr>\n",
       "      <td>max</td>\n",
       "      <td>172788.000000</td>\n",
       "      <td>2.454930</td>\n",
       "      <td>2.205773e+01</td>\n",
       "      <td>9.382558</td>\n",
       "      <td>16.875344</td>\n",
       "      <td>3.480167e+01</td>\n",
       "      <td>73.301626</td>\n",
       "      <td>120.589494</td>\n",
       "      <td>20.007208</td>\n",
       "      <td>15.594995</td>\n",
       "      <td>...</td>\n",
       "      <td>2.720284e+01</td>\n",
       "      <td>10.503090</td>\n",
       "      <td>22.528412</td>\n",
       "      <td>4.584549e+00</td>\n",
       "      <td>7.519589</td>\n",
       "      <td>3.517346</td>\n",
       "      <td>3.161220e+01</td>\n",
       "      <td>3.384781e+01</td>\n",
       "      <td>25691.160000</td>\n",
       "      <td>1.000000</td>\n",
       "    </tr>\n",
       "  </tbody>\n",
       "</table>\n",
       "<p>8 rows × 31 columns</p>\n",
       "</div>"
      ],
      "text/plain": [
       "                Time             V1            V2             V3  \\\n",
       "count  284806.000000  284806.000000  2.848060e+05  284806.000000   \n",
       "mean    94813.585781       0.000002  6.661837e-07      -0.000002   \n",
       "std     47488.004530       1.958699  1.651311e+00       1.516257   \n",
       "min         0.000000     -56.407510 -7.271573e+01     -48.325589   \n",
       "25%     54201.250000      -0.920374 -5.985522e-01      -0.890368   \n",
       "50%     84691.500000       0.018109  6.549621e-02       0.179846   \n",
       "75%    139320.000000       1.315645  8.037257e-01       1.027198   \n",
       "max    172788.000000       2.454930  2.205773e+01       9.382558   \n",
       "\n",
       "                  V4            V5             V6             V7  \\\n",
       "count  284806.000000  2.848060e+05  284806.000000  284806.000000   \n",
       "mean        0.000002  4.405008e-08       0.000002      -0.000006   \n",
       "std         1.415871  1.380249e+00       1.332273       1.237092   \n",
       "min        -5.683171 -1.137433e+02     -26.160506     -43.557242   \n",
       "25%        -0.848642 -6.915995e-01      -0.768296      -0.554080   \n",
       "50%        -0.019845 -5.433621e-02      -0.274186       0.040097   \n",
       "75%         0.743348  6.119267e-01       0.398567       0.570426   \n",
       "max        16.875344  3.480167e+01      73.301626     120.589494   \n",
       "\n",
       "                  V8             V9  ...           V21            V22  \\\n",
       "count  284806.000000  284806.000000  ...  2.848060e+05  284806.000000   \n",
       "mean        0.000001      -0.000002  ... -9.166149e-07      -0.000002   \n",
       "std         1.194355       1.098634  ...  7.345251e-01       0.725702   \n",
       "min       -73.216718     -13.434066  ... -3.483038e+01     -10.933144   \n",
       "25%        -0.208628      -0.643098  ... -2.283974e-01      -0.542351   \n",
       "50%         0.022358      -0.051429  ... -2.945020e-02       0.006781   \n",
       "75%         0.327346       0.597140  ...  1.863701e-01       0.528548   \n",
       "max        20.007208      15.594995  ...  2.720284e+01      10.503090   \n",
       "\n",
       "                 V23           V24            V25            V26  \\\n",
       "count  284806.000000  2.848060e+05  284806.000000  284806.000000   \n",
       "mean       -0.000001 -3.088756e-08       0.000002       0.000003   \n",
       "std         0.624461  6.056481e-01       0.521278       0.482225   \n",
       "min       -44.807735 -2.836627e+00     -10.295397      -2.604551   \n",
       "25%        -0.161846 -3.545895e-01      -0.317142      -0.326979   \n",
       "50%        -0.011196  4.097671e-02       0.016596      -0.052134   \n",
       "75%         0.147641  4.395270e-01       0.350716       0.240955   \n",
       "max        22.528412  4.584549e+00       7.519589       3.517346   \n",
       "\n",
       "                V27           V28         Amount       Class  \n",
       "count  2.848060e+05  2.848060e+05  284806.000000  992.000000  \n",
       "mean   8.483873e-09 -4.792707e-08      88.349168    0.495968  \n",
       "std    4.036332e-01  3.300838e-01     250.120432    0.500236  \n",
       "min   -2.256568e+01 -1.543008e+01       0.000000    0.000000  \n",
       "25%   -7.083961e-02 -5.295995e-02       5.600000    0.000000  \n",
       "50%    1.342244e-03  1.124381e-02      22.000000    0.000000  \n",
       "75%    9.104579e-02  7.828043e-02      77.160000    1.000000  \n",
       "max    3.161220e+01  3.384781e+01   25691.160000    1.000000  \n",
       "\n",
       "[8 rows x 31 columns]"
      ]
     },
     "execution_count": 81,
     "metadata": {},
     "output_type": "execute_result"
    }
   ],
   "source": [
    "data.describe()"
   ]
  },
  {
   "cell_type": "code",
   "execution_count": 82,
   "metadata": {},
   "outputs": [
    {
     "name": "stdout",
     "output_type": "stream",
     "text": [
      "283814\n",
      "992\n",
      "284806\n"
     ]
    }
   ],
   "source": [
    "print(data['Class'].isnull().sum())   # null value : 283814개\n",
    "print(data['Class'].count())   # not null : 992개\n",
    "print(data['Time'].count())  # 284806개"
   ]
  },
  {
   "cell_type": "markdown",
   "metadata": {},
   "source": [
    "## Analysis\n",
    "- Time : 발생시간\n",
    "- V1~V28 : 신용카드 사용 Transaction에 대한 정보(PCA를 통해 변형된 형태)\n",
    "- Amount : 구매액\n",
    "- Class : Fraud 여부(0: 정상, 1: Fraud)"
   ]
  },
  {
   "cell_type": "markdown",
   "metadata": {},
   "source": [
    "1) Amount 200이하 데이터 제거(소액 제거)<br>\n",
    "2) not null인 992개는 처리하지 않는다."
   ]
  },
  {
   "cell_type": "code",
   "execution_count": 83,
   "metadata": {},
   "outputs": [],
   "source": [
    "data_cp = data.copy()"
   ]
  },
  {
   "cell_type": "code",
   "execution_count": 84,
   "metadata": {},
   "outputs": [],
   "source": [
    "# 1) Class가 null값들 중에서 Amount가 200보다 큰것만 저장\n",
    "A_gr = data_cp[data_cp['Class'].isnull()]\n",
    "A = A_gr[A_gr['Amount'] > 200]"
   ]
  },
  {
   "cell_type": "code",
   "execution_count": 85,
   "metadata": {},
   "outputs": [],
   "source": [
    "# 1) Class가 not null만 저장\n",
    "B = data_cp[data_cp['Class'].notnull()]"
   ]
  },
  {
   "cell_type": "code",
   "execution_count": 86,
   "metadata": {},
   "outputs": [],
   "source": [
    "data_df = A.append(B)"
   ]
  },
  {
   "cell_type": "code",
   "execution_count": 87,
   "metadata": {},
   "outputs": [
    {
     "name": "stdout",
     "output_type": "stream",
     "text": [
      "29696\n"
     ]
    }
   ],
   "source": [
    "# 남아있는 행개수\n",
    "print(data_df['Time'].count())"
   ]
  },
  {
   "cell_type": "markdown",
   "metadata": {},
   "source": [
    "3) V1~V28을 이용하여 Class가 Null이 아닌 모든 데이터와 유클리디안 거리 계산.<br>\n",
    "   (Class가 Null인 점마다 5개 가장 가까운 Class가 Null이 아닌 점을 선별)\n",
    "  "
   ]
  },
  {
   "cell_type": "code",
   "execution_count": 88,
   "metadata": {},
   "outputs": [],
   "source": [
    "from sklearn.neighbors import KNeighborsClassifier"
   ]
  },
  {
   "cell_type": "code",
   "execution_count": 89,
   "metadata": {},
   "outputs": [
    {
     "name": "stdout",
     "output_type": "stream",
     "text": [
      "28704\n",
      "992\n"
     ]
    }
   ],
   "source": [
    "# V1~V28을 이용하여 Class가 Null이 아닌 모든 데이터\n",
    "data_df_notnull = data_df[data_df['Class'].notnull()]\n",
    "data_df_isnull = data_df[data_df['Class'].isnull()]\n",
    "print(len(data_df_isnull))\n",
    "print(len(data_df_notnull))"
   ]
  },
  {
   "cell_type": "code",
   "execution_count": 97,
   "metadata": {},
   "outputs": [],
   "source": [
    "y = data_df_notnull['Class']\n",
    "X = data_df_notnull.drop(['Class'], axis=1)"
   ]
  },
  {
   "cell_type": "code",
   "execution_count": 99,
   "metadata": {},
   "outputs": [],
   "source": [
    "knn = KNeighborsClassifier(n_neighbors=5)"
   ]
  },
  {
   "cell_type": "code",
   "execution_count": 100,
   "metadata": {},
   "outputs": [
    {
     "data": {
      "text/plain": [
       "KNeighborsClassifier(algorithm='auto', leaf_size=30, metric='minkowski',\n",
       "                     metric_params=None, n_jobs=None, n_neighbors=5, p=2,\n",
       "                     weights='uniform')"
      ]
     },
     "execution_count": 100,
     "metadata": {},
     "output_type": "execute_result"
    }
   ],
   "source": [
    "knn.fit(X, y)"
   ]
  },
  {
   "cell_type": "code",
   "execution_count": null,
   "metadata": {},
   "outputs": [],
   "source": []
  }
 ],
 "metadata": {
  "kernelspec": {
   "display_name": "Python 3",
   "language": "python",
   "name": "python3"
  },
  "language_info": {
   "codemirror_mode": {
    "name": "ipython",
    "version": 3
   },
   "file_extension": ".py",
   "mimetype": "text/x-python",
   "name": "python",
   "nbconvert_exporter": "python",
   "pygments_lexer": "ipython3",
   "version": "3.6.9"
  }
 },
 "nbformat": 4,
 "nbformat_minor": 2
}
